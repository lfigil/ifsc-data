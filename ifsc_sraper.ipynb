{
 "cells": [
  {
   "cell_type": "markdown",
   "metadata": {},
   "source": [
    "# Scraping ISFC data"
   ]
  },
  {
   "cell_type": "code",
   "execution_count": 129,
   "metadata": {},
   "outputs": [],
   "source": [
    "from selenium import webdriver\n",
    "from selenium.webdriver.common.by import By\n",
    "from selenium.webdriver.support.ui import Select\n",
    "from selenium.webdriver.chrome.options import Options\n",
    "from urllib.parse import urlparse, parse_qs\n",
    "import pandas as pd"
   ]
  },
  {
   "cell_type": "code",
   "execution_count": 95,
   "metadata": {},
   "outputs": [],
   "source": [
    "def link_generator(original_link):\n",
    "    try:\n",
    "        # Parse the URL\n",
    "        parsed_url = urlparse(original_link)\n",
    "\n",
    "        # Extract parameters\n",
    "        query_params = parse_qs(parsed_url.query)\n",
    "        event_number = query_params.get('event', [None])[0]\n",
    "        result_number = query_params.get('result', [None])[0]\n",
    "\n",
    "        # Check if the required parameters are present\n",
    "        if event_number is not None and result_number is not None:\n",
    "            # Convert to integers if needed\n",
    "            event_number = int(event_number)\n",
    "            result_number = int(result_number)\n",
    "\n",
    "            # Create the second URL\n",
    "            return f'https://components.ifsc-climbing.org/result-complete/?event={event_number}&result={result_number}'\n",
    "\n",
    "        else:\n",
    "            return 'Error: Missing required parameters (event or result) in the URL.'\n",
    "\n",
    "    except Exception as e:\n",
    "        return f'Error: {e}'"
   ]
  },
  {
   "cell_type": "code",
   "execution_count": 130,
   "metadata": {},
   "outputs": [],
   "source": [
    "options = Options()\n",
    "# options.add_argument('--headless')\n",
    "options.add_argument('--incognito')\n",
    "driver = webdriver.Chrome(options=options)\n",
    "\n",
    "\n",
    "driver.get(\"https://components.ifsc-climbing.org/calendar/\")\n",
    "driver.implicitly_wait(0.5)"
   ]
  },
  {
   "cell_type": "code",
   "execution_count": 131,
   "metadata": {},
   "outputs": [],
   "source": [
    "menu = Select(driver.find_element(By.ID, \"yearSelect\"))\n",
    "menu.select_by_visible_text('2023')"
   ]
  },
  {
   "cell_type": "code",
   "execution_count": 133,
   "metadata": {},
   "outputs": [],
   "source": [
    "dropdown = driver.find_element(By.ID, \"yearSelect\")"
   ]
  },
  {
   "cell_type": "code",
   "execution_count": 138,
   "metadata": {},
   "outputs": [
    {
     "name": "stdout",
     "output_type": "stream",
     "text": [
      "2024\n",
      "2023\n",
      "2022\n",
      "2021\n",
      "2020\n",
      "2019\n",
      "2018\n",
      "2017\n",
      "2016\n",
      "2015\n",
      "2014\n",
      "2013\n",
      "2012\n",
      "2011\n",
      "2010\n",
      "2009\n",
      "2008\n",
      "2007\n",
      "2006\n",
      "2005\n",
      "2004\n",
      "2003\n",
      "2002\n",
      "2001\n",
      "2000\n",
      "1999\n",
      "1998\n",
      "1997\n",
      "1996\n",
      "1995\n",
      "1994\n",
      "1993\n",
      "1992\n",
      "1991\n",
      "1990\n"
     ]
    }
   ],
   "source": [
    "values = dropdown.find_elements(By.CSS_SELECTOR, 'option')\n",
    "\n",
    "for v in values:\n",
    "    print(v.text)\n"
   ]
  },
  {
   "cell_type": "code",
   "execution_count": 98,
   "metadata": {},
   "outputs": [
    {
     "name": "stdout",
     "output_type": "stream",
     "text": [
      "IFSC World Cup Hachioji 2023\n",
      "21 April - 23 April 2023\n",
      "BOULDER Men:https://components.ifsc-climbing.org/result-complete/?event=1291&result=3\n",
      "BOULDER Women:https://components.ifsc-climbing.org/result-complete/?event=1291&result=7\n"
     ]
    }
   ],
   "source": [
    "competitions = driver.find_elements(By.CLASS_NAME, 'competition')\n",
    "\n",
    "for c in competitions:\n",
    "    print(c.find_element(By.CLASS_NAME, 'title').text)\n",
    "    print(c.find_element(By.CLASS_NAME, 'date').text)\n",
    "    \n",
    "    # Get categories\n",
    "    categories = c.find_elements(By.CLASS_NAME, 'tag')\n",
    "\n",
    "    if categories:\n",
    "        for cat in categories:\n",
    "            a_tag = cat.find_element(By.TAG_NAME, 'a')\n",
    "            href_link = a_tag.get_attribute(\"href\")\n",
    "            new_href = link_generator(href_link)\n",
    "            print(f\"{cat.text}:{new_href}\")\n",
    "            \n",
    "    break\n",
    "            "
   ]
  },
  {
   "cell_type": "code",
   "execution_count": 107,
   "metadata": {},
   "outputs": [],
   "source": [
    "options = Options()\n",
    "# options.add_argument('--headless')\n",
    "options.add_argument('--incognito')\n",
    "driver = webdriver.Chrome(options=options)\n",
    "\n",
    "\n",
    "driver.get(\"https://components.ifsc-climbing.org/result-complete/?event=1291&result=3\")\n",
    "driver.implicitly_wait(0.5)"
   ]
  },
  {
   "cell_type": "code",
   "execution_count": 108,
   "metadata": {},
   "outputs": [],
   "source": [
    "table = driver.find_element(By.CSS_SELECTOR, 'table')"
   ]
  },
  {
   "cell_type": "code",
   "execution_count": null,
   "metadata": {},
   "outputs": [],
   "source": []
  },
  {
   "cell_type": "code",
   "execution_count": 124,
   "metadata": {},
   "outputs": [],
   "source": [
    "# Set up a web driver (replace with the appropriate driver for your browser)\n",
    "driver = webdriver.Chrome()\n",
    "\n",
    "# Example URL (replace with the actual URL)\n",
    "url = 'https://example.com'\n",
    "\n",
    "# Navigate to the webpage\n",
    "driver.get(url)\n",
    "\n",
    "# Find the table element (replace with the appropriate selector for your table)\n",
    "table = driver.find_element(By.CSS_SELECTOR, 'table')\n",
    "\n",
    "# Initialize empty lists to store table data\n",
    "table_header = []\n",
    "table_data = []\n",
    "\n",
    "# Find the header row (within the thead section)\n",
    "thead = table.find_element(By.CSS_SELECTOR, 'thead')\n",
    "header_row = thead.find_element(By.CSS_SELECTOR, 'tr')\n",
    "\n",
    "# Extract header cell text\n",
    "for cell in header_row.find_elements(By.CSS_SELECTOR, 'th'):\n",
    "    header_text = cell.text\n",
    "    table_header.append(header_text)\n",
    "\n",
    "# Find and iterate through data rows (within the tbody section)\n",
    "tbody = table.find_element(By.CSS_SELECTOR, 'tbody')\n",
    "for row in tbody.find_elements(By.CSS_SELECTOR, 'tr'):\n",
    "    row_data = []\n",
    "\n",
    "    # Iterate through columns in the current row\n",
    "    for cell in row.find_elements(By.CSS_SELECTOR, 'td'):\n",
    "        # Extract text from each cell\n",
    "        cell_text = cell.text\n",
    "        row_data.append(cell_text)\n",
    "\n",
    "    # Add the row data to the table data list\n",
    "    table_data.append(row_data)\n",
    "\n",
    "# Close the browser\n",
    "driver.quit()\n",
    "\n",
    "# Create a Pandas DataFrame from the table data\n",
    "df = pd.DataFrame(table_data, columns=table_header)\n",
    "\n",
    "# Print the scraped table header and data using Pandas DataFrame\n",
    "print(\"Table Header:\")\n",
    "print(df.columns)\n",
    "print(\"Table Data:\")\n",
    "print(df)\n",
    "\n",
    "# Export the DataFrame to a CSV file\n",
    "csv_file_path = 'table_data_pandas.csv'\n",
    "df.to_csv(csv_file_path, index=False, encoding='utf-8')\n",
    "\n"
   ]
  },
  {
   "cell_type": "code",
   "execution_count": 112,
   "metadata": {},
   "outputs": [
    {
     "data": {
      "text/plain": [
       "[<selenium.webdriver.remote.webelement.WebElement (session=\"3c56a43cd41076b1634d1ed18005178e\", element=\"172029010631E4DFC2073E4A0529EF77_element_745\")>,\n",
       " [],\n",
       " ['1', 'MEJDI', 'SCHALCK', 'FRA', '4t4z 6 6', '1t4z 2 9', '2t3z 7 7'],\n",
       " ['2', 'HANNES', 'VAN DUYSEN', 'BEL', '3t5z 9 15', '1t4z 8 14', '1t3z 2 11'],\n",
       " ['3', 'PAUL', 'JENFT', 'FRA', '4t5z 10 9', '2t4z 11 13', '1t3z 3 3'],\n",
       " ['4', 'KOKORO', 'FUJII', 'JPN', '4t5z 8 17', '1t2z 3 4', '0t3z 0 9'],\n",
       " ['5', 'SORATO', 'ANRAKU', 'JPN', '3t5z 4 17', '1t4z 1 12', '0t3z 0 11'],\n",
       " ['6', 'JONGWON', 'CHON', 'KOR', '3t4z 3 10', '2t2z 6 5', '0t3z 0 13'],\n",
       " ['7', 'DOHYUN', 'LEE', 'KOR', '5t5z 10 10', '1t2z 5 5', ''],\n",
       " ['8', 'MEICHI', 'NARASAKI', 'JPN', '3t4z 5 10', '0t4z 0 10', ''],\n",
       " ['9', 'EDVARDS', 'GRUZITIS', 'LAT', '4t5z 18 12', '0t4z 0 11', ''],\n",
       " ['10', 'TOMOA', 'NARASAKI', 'JPN', '5t5z 20 13', '0t4z 0 12', ''],\n",
       " ['11', 'YANNICK', 'FLOHÉ', 'GER', '4t5z 12 14', '0t3z 0 9', ''],\n",
       " ['12', 'LEO', 'AVEZOU', 'FRA', '4t5z 13 10', '0t3z 0 14', ''],\n",
       " ['13', 'YOSHIYUKI', 'OGATA', 'JPN', '5t5z 14 11', '0t2z 0 2', ''],\n",
       " ['14', 'MATHIEU', 'TERNANT', 'FRA', '3t4z 8 6', '0t2z 0 4', ''],\n",
       " ['15', 'MICKAEL', 'MAWEM', 'FRA', '3t5z 13 17', '0t2z 0 5', ''],\n",
       " ['16', 'YUJI', 'INOUE', 'JPN', '4t5z 18 17', '0t2z 0 6', ''],\n",
       " ['16', 'RITSU', 'KAYOTANI', 'JPN', '3t5z 5 10', '0t2z 0 6', ''],\n",
       " ['18', 'NICOLAI', 'UZNIK', 'AUT', '4t5z 9 10', '0t2z 0 7', ''],\n",
       " ['19', 'ANZE', 'PEHARC', 'SLO', '3t5z 5 10', '0t2z 0 8', ''],\n",
       " ['20', 'JAMES', 'POPE', 'GBR', '4t4z 11 9', '0t1z 0 5', ''],\n",
       " ['21', 'DAIKI', 'SANO', 'JPN', '2t5z 4 12', '', ''],\n",
       " ['21', 'STEFAN', 'SCHERZ', 'AUT', '4t4z 18 7', '', ''],\n",
       " ['23', 'SAM', 'AVEZOU', 'FRA', '2t5z 4 18', '', ''],\n",
       " ['23', 'TOMOAKI', 'TAKATA', 'JPN', '4t4z 20 11', '', ''],\n",
       " ['25', 'MAXIMILLIAN', 'MILNE', 'GBR', '2t4z 6 10', '', ''],\n",
       " ['25', 'TOBY', 'ROBERTS', 'GBR', '3t5z 5 12', '', ''],\n",
       " ['27', 'COLIN', 'DUFFY', 'USA', '2t4z 9 8', '', ''],\n",
       " ['27', 'JAKOB', 'SCHUBERT', 'AUT', '3t5z 5 16', '', ''],\n",
       " ['29', 'SUNGSU', 'LEE', 'KOR', '2t3z 7 7', '', ''],\n",
       " ['29', 'HANNES', 'PUMAN', 'SWE', '3t5z 6 13', '', ''],\n",
       " ['31', 'HUGO', 'HOYER', 'USA', '3t5z 7 7', '', ''],\n",
       " ['31', 'ALEX', 'KHAZANOV', 'ISR', '1t5z 2 16', '', ''],\n",
       " ['33', 'MAX', 'KLEESATTEL', 'GER', '1t5z 3 20', '', ''],\n",
       " ['33', 'SIMON', 'LORENZI', 'BEL', '3t5z 8 15', '', ''],\n",
       " ['35', 'NICOLAS', 'COLLIN', 'BEL', '3t5z 8 17', '', ''],\n",
       " ['35', 'JUNTA', 'SEKIGUCHI', 'JPN', '1t5z 3 23', '', ''],\n",
       " ['37', 'ZAN', 'LOVENJAK SUDAR', 'SLO', '3t5z 9 10', '', ''],\n",
       " ['37', 'NIMROD', 'MARCUS', 'ISR', '1t5z 6 22', '', ''],\n",
       " ['39', 'SEAN', 'BAILEY', 'USA', '1t4z 2 7', '', ''],\n",
       " ['39', 'HAMISH', 'MCARTHUR', 'GBR', '3t4z 6 7', '', ''],\n",
       " ['41', 'JERNEJ', 'KRUDER', 'SLO', '3t4z 7 7', '', ''],\n",
       " ['41', 'MICHAEL', 'PICCOLRUAZ', 'ITA', '1t4z 2 22', '', ''],\n",
       " ['43', 'KATSURA', 'KONISHI', 'JPN', '3t4z 8 10', '', ''],\n",
       " ['43', 'RAM', 'LEVIN', 'ISR', '1t4z 3 28', '', ''],\n",
       " ['45', 'MANUEL', 'CORNU', 'FRA', '1t4z 4 18', '', ''],\n",
       " ['45', 'REI', 'SUGIMOTO', 'JPN', '3t4z 11 10', '', ''],\n",
       " ['47', 'DILLON', 'COUNTRYMAN', 'USA', '3t4z 12 11', '', ''],\n",
       " ['47', 'GEVA', 'LEVIN', 'ISR', '1t3z 2 7', '', ''],\n",
       " ['49', 'OSCAR', 'BAUDRAND', 'CAN', '1t3z 5 16', '', ''],\n",
       " ['49', 'SLAV', 'KIROV', 'BUL', '3t4z 12 14', '', ''],\n",
       " ['51', 'ELIAS', 'ARRIAGADA KRÜGER', 'GER', '3t3z 7 5', '', ''],\n",
       " ['51', 'JAN-LUCA', 'POSCH', 'AUT', '0t4z 0 15', '', ''],\n",
       " ['53', 'ALBERTO', 'GINÉS LÓPEZ', 'ESP', '3t3z 17 13', '', ''],\n",
       " ['53', 'LUKE', 'GOH WEN BIN', 'SGP', '0t4z 0 16', '', ''],\n",
       " ['53', 'KA-CHUN', 'YAU', 'HKG', '0t4z 0 16', '', ''],\n",
       " ['56', 'ZACH', 'GALLA', 'USA', '2t4z 2 10', '', ''],\n",
       " ['57', 'VICTOR', 'BAUDRAND', 'CAN', '2t4z 2 12', '', ''],\n",
       " ['57', 'DYLAN', 'PARKS', 'AUS', '0t4z 0 17', '', ''],\n",
       " ['59', 'NILS', 'FAVRE', 'SUI', '0t4z 0 18', '', ''],\n",
       " ['59', 'AXEL', 'LINDFORS', 'FIN', '2t4z 4 15', '', ''],\n",
       " ['61', 'JESSE', 'GRUPPER', 'USA', '2t4z 5 11', '', ''],\n",
       " ['61', 'ARDCH', 'INTRACHUPONGSE', 'THA', '0t4z 0 22', '', ''],\n",
       " ['63', 'NATHAN', 'MARTIN', 'LUX', '0t3z 0 5', '', ''],\n",
       " ['63', 'YUFEI', 'PAN', 'CHN', '2t4z 6 13', '', ''],\n",
       " ['65', 'SASCHA', 'LEHMANN', 'SUI', '2t3z 5 8', '', ''],\n",
       " ['65', 'LUKA', 'POTOCAR', 'SLO', '0t3z 0 9', '', ''],\n",
       " ['65', 'FILIP', 'SCHENK', 'ITA', '0t3z 0 9', '', ''],\n",
       " ['68', 'THILO JELDRIK', 'SCHRÖTER', 'NOR', '1t3z 2 5', '', ''],\n",
       " ['69', 'HOSSEIN', 'FAMILROHANI', 'IRI', '1t3z 3 14', '', ''],\n",
       " ['69', 'FELIPE', 'HO FOGANHOLO', 'BRA', '0t3z 0 10', '', ''],\n",
       " ['71', 'CHEUNG-CHI SHOJI', 'CHAN', 'HKG', '0t3z 0 11', '', ''],\n",
       " ['71', 'JINBIN', 'HUANG', 'CHN', '1t2z 3 9', '', ''],\n",
       " ['73', 'ANTON YOUNG HONG', 'NIELSEN', 'DEN', '0t4z 0 17', '', ''],\n",
       " ['73', 'CHRISTIAN', 'WAGNER', 'CHI', '0t3z 0 16', '', ''],\n",
       " ['75', 'THEIS LINDEGREN', 'ELFENBEIN', 'DEN', '0t3z 0 17', '', ''],\n",
       " ['75', 'NIKOLAY', 'RUSEV', 'BUL', '0t4z 0 18', '', ''],\n",
       " ['77', 'RODRIGO', 'IASI HANADA', 'BRA', '0t3z 0 6', '', ''],\n",
       " ['77', 'WAN TONG', 'LOK', 'MAC', '0t3z 0 18', '', ''],\n",
       " ['79', 'CHINGKHEINGANBA', 'MAIBAM', 'IND', '0t3z 0 10', '', ''],\n",
       " ['79', 'GUY', 'MCNAMEE', 'CAN', '0t2z 0 2', '', ''],\n",
       " ['79', 'JAKUB', 'ZIETEK', 'POL', '0t2z 0 2', '', ''],\n",
       " ['82', 'CIARÁN', 'SCANLON', 'IRL', '0t2z 0 5', '', ''],\n",
       " ['83', 'LOKESH', 'RANJAN', 'IND', '0t2z 0 3', '', ''],\n",
       " ['83', 'SHINYEONG', 'YUN', 'KOR', '0t2z 0 8', '', ''],\n",
       " ['85', 'DAYAN', 'AKHTAR', 'GBR', '0t2z 0 15', '', ''],\n",
       " ['85', 'LIAM', 'HEALY', 'AUS', '0t2z 0 15', '', ''],\n",
       " ['85', 'DIEGO', 'LEQUERICA BUSCAGLIA', 'PER', '0t2z 0 7', '', ''],\n",
       " ['88', 'MARK', 'SCANLON', 'IRL', '0t1z 0 3', '', ''],\n",
       " ['89', 'IMAN', 'MORA', 'PHI', '0t1z 0 8', '', ''],\n",
       " ['89', 'YING-CHIEH', 'WEN', 'TPE', '0t0z 0 0', '', ''],\n",
       " ['91', 'JOHN JOSEPH', 'VELORIA', 'PHI', '0t0z 0 0', '', '']]"
      ]
     },
     "execution_count": 112,
     "metadata": {},
     "output_type": "execute_result"
    }
   ],
   "source": [
    "table_data"
   ]
  },
  {
   "cell_type": "code",
   "execution_count": 139,
   "metadata": {},
   "outputs": [],
   "source": [
    "driver.quit()"
   ]
  }
 ],
 "metadata": {
  "kernelspec": {
   "display_name": "base",
   "language": "python",
   "name": "python3"
  },
  "language_info": {
   "codemirror_mode": {
    "name": "ipython",
    "version": 3
   },
   "file_extension": ".py",
   "mimetype": "text/x-python",
   "name": "python",
   "nbconvert_exporter": "python",
   "pygments_lexer": "ipython3",
   "version": "3.12.0"
  }
 },
 "nbformat": 4,
 "nbformat_minor": 2
}
