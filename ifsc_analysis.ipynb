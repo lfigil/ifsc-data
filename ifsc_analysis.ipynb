{
 "cells": [
  {
   "cell_type": "code",
   "execution_count": 138,
   "metadata": {},
   "outputs": [],
   "source": [
    "import pandas as pd\n",
    "import numpy as np\n",
    "import matplotlib\n",
    "import matplotlib.pyplot as plt\n",
    "import seaborn as sns\n",
    "\n",
    "matplotlib.rcParams['figure.figsize'] = (20, 10)    # Set default figure size (width, height)\n",
    "matplotlib.rcParams['font.size'] = 12               # Set default font size\n",
    "matplotlib.rcParams['axes.titlesize'] = 20          # Set default title font size\n",
    "matplotlib.rcParams['axes.labelsize'] = 20          # Set default label font size\n",
    "plt.style.use('seaborn-v0_8-pastel')"
   ]
  },
  {
   "cell_type": "code",
   "execution_count": 2,
   "metadata": {},
   "outputs": [],
   "source": [
    "# Read 2023 cvs files competitions\n",
    "boulder_df = pd.read_csv(\"./competitions/world_cups_2023/2023_boulder.csv\")\n",
    "lead_df = pd.read_csv(\"./competitions/world_cups_2023/2023_lead.csv\")\n",
    "speed_df = pd.read_csv(\"./competitions/world_cups_2023/2023_speed.csv\")\n",
    "\n",
    "# Read the athletes file\n",
    "athletes = pd.read_csv(\"./athlete_info_v2.csv\")"
   ]
  },
  {
   "cell_type": "markdown",
   "metadata": {},
   "source": [
    "### Data Cleaning"
   ]
  },
  {
   "cell_type": "code",
   "execution_count": 3,
   "metadata": {},
   "outputs": [
    {
     "data": {
      "text/html": [
       "<div>\n",
       "<style scoped>\n",
       "    .dataframe tbody tr th:only-of-type {\n",
       "        vertical-align: middle;\n",
       "    }\n",
       "\n",
       "    .dataframe tbody tr th {\n",
       "        vertical-align: top;\n",
       "    }\n",
       "\n",
       "    .dataframe thead th {\n",
       "        text-align: right;\n",
       "    }\n",
       "</style>\n",
       "<table border=\"1\" class=\"dataframe\">\n",
       "  <thead>\n",
       "    <tr style=\"text-align: right;\">\n",
       "      <th></th>\n",
       "      <th>Name</th>\n",
       "      <th>AthleteUrl</th>\n",
       "      <th>Gender</th>\n",
       "      <th>Height</th>\n",
       "      <th>Active</th>\n",
       "      <th>Participations</th>\n",
       "      <th>Age</th>\n",
       "      <th>country</th>\n",
       "    </tr>\n",
       "  </thead>\n",
       "  <tbody>\n",
       "    <tr>\n",
       "      <th>0</th>\n",
       "      <td>Liam HEALY</td>\n",
       "      <td>https://ifsc.results.info/#/athlete/2535</td>\n",
       "      <td>Men</td>\n",
       "      <td>-</td>\n",
       "      <td>2017</td>\n",
       "      <td>8</td>\n",
       "      <td>26</td>\n",
       "      <td>AUS</td>\n",
       "    </tr>\n",
       "    <tr>\n",
       "      <th>1</th>\n",
       "      <td>Dylan PARKS</td>\n",
       "      <td>https://ifsc.results.info/#/athlete/13853</td>\n",
       "      <td>Men</td>\n",
       "      <td>-</td>\n",
       "      <td>2022</td>\n",
       "      <td>13</td>\n",
       "      <td>18</td>\n",
       "      <td>AUS</td>\n",
       "    </tr>\n",
       "    <tr>\n",
       "      <th>2</th>\n",
       "      <td>Stefan SCHERZ</td>\n",
       "      <td>https://ifsc.results.info/#/athlete/1274</td>\n",
       "      <td>Men</td>\n",
       "      <td>179</td>\n",
       "      <td>2015</td>\n",
       "      <td>66</td>\n",
       "      <td>22</td>\n",
       "      <td>AUT</td>\n",
       "    </tr>\n",
       "    <tr>\n",
       "      <th>3</th>\n",
       "      <td>Jan-luca POSCH</td>\n",
       "      <td>https://ifsc.results.info/#/athlete/1245</td>\n",
       "      <td>Men</td>\n",
       "      <td>184</td>\n",
       "      <td>2012</td>\n",
       "      <td>83</td>\n",
       "      <td>26</td>\n",
       "      <td>AUT</td>\n",
       "    </tr>\n",
       "    <tr>\n",
       "      <th>4</th>\n",
       "      <td>Nicolai UZNIK</td>\n",
       "      <td>https://ifsc.results.info/#/athlete/1256</td>\n",
       "      <td>Men</td>\n",
       "      <td>173</td>\n",
       "      <td>2014</td>\n",
       "      <td>88</td>\n",
       "      <td>23</td>\n",
       "      <td>AUT</td>\n",
       "    </tr>\n",
       "    <tr>\n",
       "      <th>5</th>\n",
       "      <td>Jakob SCHUBERT</td>\n",
       "      <td>https://ifsc.results.info/#/athlete/1214</td>\n",
       "      <td>Men</td>\n",
       "      <td>176</td>\n",
       "      <td>2004</td>\n",
       "      <td>233</td>\n",
       "      <td>33</td>\n",
       "      <td>AUT</td>\n",
       "    </tr>\n",
       "    <tr>\n",
       "      <th>6</th>\n",
       "      <td>Nicolas COLLIN</td>\n",
       "      <td>https://ifsc.results.info/#/athlete/320</td>\n",
       "      <td>Men</td>\n",
       "      <td>179</td>\n",
       "      <td>2012</td>\n",
       "      <td>137</td>\n",
       "      <td>25</td>\n",
       "      <td>BEL</td>\n",
       "    </tr>\n",
       "    <tr>\n",
       "      <th>7</th>\n",
       "      <td>Simon LORENZI</td>\n",
       "      <td>https://ifsc.results.info/#/athlete/318</td>\n",
       "      <td>Men</td>\n",
       "      <td>168</td>\n",
       "      <td>2011</td>\n",
       "      <td>104</td>\n",
       "      <td>26</td>\n",
       "      <td>BEL</td>\n",
       "    </tr>\n",
       "    <tr>\n",
       "      <th>8</th>\n",
       "      <td>Hannes VAN DUYSEN</td>\n",
       "      <td>https://ifsc.results.info/#/athlete/373</td>\n",
       "      <td>Men</td>\n",
       "      <td>175</td>\n",
       "      <td>2018</td>\n",
       "      <td>53</td>\n",
       "      <td>19</td>\n",
       "      <td>BEL</td>\n",
       "    </tr>\n",
       "    <tr>\n",
       "      <th>9</th>\n",
       "      <td>Rodrigo IASI HANADA</td>\n",
       "      <td>https://ifsc.results.info/#/athlete/12903</td>\n",
       "      <td>Men</td>\n",
       "      <td>-</td>\n",
       "      <td>2021</td>\n",
       "      <td>20</td>\n",
       "      <td>21</td>\n",
       "      <td>BRA</td>\n",
       "    </tr>\n",
       "  </tbody>\n",
       "</table>\n",
       "</div>"
      ],
      "text/plain": [
       "                  Name                                 AthleteUrl Gender  \\\n",
       "0           Liam HEALY   https://ifsc.results.info/#/athlete/2535    Men   \n",
       "1          Dylan PARKS  https://ifsc.results.info/#/athlete/13853    Men   \n",
       "2        Stefan SCHERZ   https://ifsc.results.info/#/athlete/1274    Men   \n",
       "3       Jan-luca POSCH   https://ifsc.results.info/#/athlete/1245    Men   \n",
       "4        Nicolai UZNIK   https://ifsc.results.info/#/athlete/1256    Men   \n",
       "5       Jakob SCHUBERT   https://ifsc.results.info/#/athlete/1214    Men   \n",
       "6       Nicolas COLLIN    https://ifsc.results.info/#/athlete/320    Men   \n",
       "7        Simon LORENZI    https://ifsc.results.info/#/athlete/318    Men   \n",
       "8    Hannes VAN DUYSEN    https://ifsc.results.info/#/athlete/373    Men   \n",
       "9  Rodrigo IASI HANADA  https://ifsc.results.info/#/athlete/12903    Men   \n",
       "\n",
       "  Height Active  Participations  Age country  \n",
       "0      -   2017               8   26     AUS  \n",
       "1      -   2022              13   18     AUS  \n",
       "2    179   2015              66   22     AUT  \n",
       "3    184   2012              83   26     AUT  \n",
       "4    173   2014              88   23     AUT  \n",
       "5    176   2004             233   33     AUT  \n",
       "6    179   2012             137   25     BEL  \n",
       "7    168   2011             104   26     BEL  \n",
       "8    175   2018              53   19     BEL  \n",
       "9      -   2021              20   21     BRA  "
      ]
     },
     "execution_count": 3,
     "metadata": {},
     "output_type": "execute_result"
    }
   ],
   "source": [
    "athletes.head(10)"
   ]
  },
  {
   "cell_type": "code",
   "execution_count": 4,
   "metadata": {},
   "outputs": [
    {
     "data": {
      "text/plain": [
       "(751, 8)"
      ]
     },
     "execution_count": 4,
     "metadata": {},
     "output_type": "execute_result"
    }
   ],
   "source": [
    "athletes.shape"
   ]
  },
  {
   "cell_type": "code",
   "execution_count": 5,
   "metadata": {},
   "outputs": [
    {
     "data": {
      "text/plain": [
       "Name              object\n",
       "AthleteUrl        object\n",
       "Gender            object\n",
       "Height            object\n",
       "Active            object\n",
       "Participations     int64\n",
       "Age                int64\n",
       "country           object\n",
       "dtype: object"
      ]
     },
     "execution_count": 5,
     "metadata": {},
     "output_type": "execute_result"
    }
   ],
   "source": [
    "athletes.dtypes"
   ]
  },
  {
   "cell_type": "code",
   "execution_count": 6,
   "metadata": {},
   "outputs": [
    {
     "data": {
      "text/plain": [
       "Name              False\n",
       "AthleteUrl        False\n",
       "Gender            False\n",
       "Height             True\n",
       "Active             True\n",
       "Participations    False\n",
       "Age               False\n",
       "country           False\n",
       "dtype: bool"
      ]
     },
     "execution_count": 6,
     "metadata": {},
     "output_type": "execute_result"
    }
   ],
   "source": [
    "# Check the columns with '-' in it\n",
    "(athletes == '-').any()"
   ]
  },
  {
   "cell_type": "code",
   "execution_count": 7,
   "metadata": {},
   "outputs": [
    {
     "data": {
      "text/html": [
       "<div>\n",
       "<style scoped>\n",
       "    .dataframe tbody tr th:only-of-type {\n",
       "        vertical-align: middle;\n",
       "    }\n",
       "\n",
       "    .dataframe tbody tr th {\n",
       "        vertical-align: top;\n",
       "    }\n",
       "\n",
       "    .dataframe thead th {\n",
       "        text-align: right;\n",
       "    }\n",
       "</style>\n",
       "<table border=\"1\" class=\"dataframe\">\n",
       "  <thead>\n",
       "    <tr style=\"text-align: right;\">\n",
       "      <th></th>\n",
       "      <th>Name</th>\n",
       "      <th>AthleteUrl</th>\n",
       "      <th>Gender</th>\n",
       "      <th>Height</th>\n",
       "      <th>Active</th>\n",
       "      <th>Participations</th>\n",
       "      <th>Age</th>\n",
       "      <th>country</th>\n",
       "    </tr>\n",
       "  </thead>\n",
       "  <tbody>\n",
       "    <tr>\n",
       "      <th>746</th>\n",
       "      <td>Mengli ZHANG</td>\n",
       "      <td>https://ifsc.results.info/#/athlete/15133</td>\n",
       "      <td>Women</td>\n",
       "      <td>-</td>\n",
       "      <td>-</td>\n",
       "      <td>0</td>\n",
       "      <td>20</td>\n",
       "      <td>CHN</td>\n",
       "    </tr>\n",
       "  </tbody>\n",
       "</table>\n",
       "</div>"
      ],
      "text/plain": [
       "             Name                                 AthleteUrl Gender Height  \\\n",
       "746  Mengli ZHANG  https://ifsc.results.info/#/athlete/15133  Women      -   \n",
       "\n",
       "    Active  Participations  Age country  \n",
       "746      -               0   20     CHN  "
      ]
     },
     "execution_count": 7,
     "metadata": {},
     "output_type": "execute_result"
    }
   ],
   "source": [
    "athletes[athletes['Active'] == '-']"
   ]
  },
  {
   "cell_type": "code",
   "execution_count": 8,
   "metadata": {},
   "outputs": [],
   "source": [
    "# Remove the above value\n",
    "idx = athletes[athletes['Active'] == '-'].index\n",
    "athletes = athletes.drop(idx)"
   ]
  },
  {
   "cell_type": "code",
   "execution_count": 9,
   "metadata": {},
   "outputs": [],
   "source": [
    "# Change data types from Object to Numeric type\n",
    "athletes['Height'] = pd.to_numeric(athletes['Height'], errors='coerce')\n",
    "athletes['Active'] = athletes['Active'].astype('Int64')"
   ]
  },
  {
   "cell_type": "code",
   "execution_count": 10,
   "metadata": {},
   "outputs": [
    {
     "data": {
      "text/plain": [
       "Name              False\n",
       "AthleteUrl        False\n",
       "Gender            False\n",
       "Height            False\n",
       "Active            False\n",
       "Participations    False\n",
       "Age               False\n",
       "country           False\n",
       "dtype: boolean"
      ]
     },
     "execution_count": 10,
     "metadata": {},
     "output_type": "execute_result"
    }
   ],
   "source": [
    "# Check the columns with '-' in it\n",
    "(athletes == '-').any()"
   ]
  },
  {
   "cell_type": "code",
   "execution_count": 11,
   "metadata": {},
   "outputs": [
    {
     "data": {
      "text/plain": [
       "Name               object\n",
       "AthleteUrl         object\n",
       "Gender             object\n",
       "Height            float64\n",
       "Active              Int64\n",
       "Participations      int64\n",
       "Age                 int64\n",
       "country            object\n",
       "dtype: object"
      ]
     },
     "execution_count": 11,
     "metadata": {},
     "output_type": "execute_result"
    }
   ],
   "source": [
    "athletes.dtypes"
   ]
  },
  {
   "cell_type": "code",
   "execution_count": 12,
   "metadata": {},
   "outputs": [
    {
     "data": {
      "text/plain": [
       "Name                0\n",
       "AthleteUrl          0\n",
       "Gender              0\n",
       "Height            424\n",
       "Active              0\n",
       "Participations      0\n",
       "Age                 0\n",
       "country             0\n",
       "dtype: int64"
      ]
     },
     "execution_count": 12,
     "metadata": {},
     "output_type": "execute_result"
    }
   ],
   "source": [
    "athletes.isna().sum()"
   ]
  },
  {
   "cell_type": "markdown",
   "metadata": {},
   "source": [
    "There are 424 records with no height. In this case, I will use the mean value per gender, and country to fill in the missing values."
   ]
  },
  {
   "cell_type": "code",
   "execution_count": 13,
   "metadata": {},
   "outputs": [
    {
     "data": {
      "text/plain": [
       "Name               0\n",
       "AthleteUrl         0\n",
       "Gender             0\n",
       "Height            94\n",
       "Active             0\n",
       "Participations     0\n",
       "Age                0\n",
       "country            0\n",
       "dtype: int64"
      ]
     },
     "execution_count": 13,
     "metadata": {},
     "output_type": "execute_result"
    }
   ],
   "source": [
    "# Create a copy of the data frame to fill in with the mean values\n",
    "athletes_v2 = athletes\n",
    "athletes_v2['Height'] = athletes['Height'].fillna(athletes.groupby(['country', 'Gender'])['Height'].transform('mean'))\n",
    "athletes_v2.isna().sum()"
   ]
  },
  {
   "cell_type": "markdown",
   "metadata": {},
   "source": [
    "There are still 94 missing values after adding the mean values per gender and country. This mean that there are still athletes with no height information. For now, I will leave as it."
   ]
  },
  {
   "cell_type": "code",
   "execution_count": 14,
   "metadata": {},
   "outputs": [
    {
     "data": {
      "text/html": [
       "<div>\n",
       "<style scoped>\n",
       "    .dataframe tbody tr th:only-of-type {\n",
       "        vertical-align: middle;\n",
       "    }\n",
       "\n",
       "    .dataframe tbody tr th {\n",
       "        vertical-align: top;\n",
       "    }\n",
       "\n",
       "    .dataframe thead th {\n",
       "        text-align: right;\n",
       "    }\n",
       "</style>\n",
       "<table border=\"1\" class=\"dataframe\">\n",
       "  <thead>\n",
       "    <tr style=\"text-align: right;\">\n",
       "      <th></th>\n",
       "      <th>Rank</th>\n",
       "      <th>Name</th>\n",
       "      <th>Unnamed: 2</th>\n",
       "      <th>Country</th>\n",
       "      <th>Qualification</th>\n",
       "      <th>Semi-final</th>\n",
       "      <th>Final</th>\n",
       "      <th>event_name</th>\n",
       "      <th>date</th>\n",
       "      <th>gender</th>\n",
       "    </tr>\n",
       "  </thead>\n",
       "  <tbody>\n",
       "    <tr>\n",
       "      <th>0</th>\n",
       "      <td>1.0</td>\n",
       "      <td>MEJDI</td>\n",
       "      <td>SCHALCK</td>\n",
       "      <td>FRA</td>\n",
       "      <td>4t4z 6 6</td>\n",
       "      <td>1t4z 2 9</td>\n",
       "      <td>2t3z 7 7</td>\n",
       "      <td>IFSC_World_Cup_Hachioji_2023</td>\n",
       "      <td>21 April - 23 April 2023</td>\n",
       "      <td>Men</td>\n",
       "    </tr>\n",
       "    <tr>\n",
       "      <th>1</th>\n",
       "      <td>2.0</td>\n",
       "      <td>HANNES</td>\n",
       "      <td>VAN DUYSEN</td>\n",
       "      <td>BEL</td>\n",
       "      <td>3t5z 9 15</td>\n",
       "      <td>1t4z 8 14</td>\n",
       "      <td>1t3z 2 11</td>\n",
       "      <td>IFSC_World_Cup_Hachioji_2023</td>\n",
       "      <td>21 April - 23 April 2023</td>\n",
       "      <td>Men</td>\n",
       "    </tr>\n",
       "    <tr>\n",
       "      <th>2</th>\n",
       "      <td>3.0</td>\n",
       "      <td>PAUL</td>\n",
       "      <td>JENFT</td>\n",
       "      <td>FRA</td>\n",
       "      <td>4t5z 10 9</td>\n",
       "      <td>2t4z 11 13</td>\n",
       "      <td>1t3z 3 3</td>\n",
       "      <td>IFSC_World_Cup_Hachioji_2023</td>\n",
       "      <td>21 April - 23 April 2023</td>\n",
       "      <td>Men</td>\n",
       "    </tr>\n",
       "    <tr>\n",
       "      <th>3</th>\n",
       "      <td>4.0</td>\n",
       "      <td>KOKORO</td>\n",
       "      <td>FUJII</td>\n",
       "      <td>JPN</td>\n",
       "      <td>4t5z 8 17</td>\n",
       "      <td>1t2z 3 4</td>\n",
       "      <td>0t3z 0 9</td>\n",
       "      <td>IFSC_World_Cup_Hachioji_2023</td>\n",
       "      <td>21 April - 23 April 2023</td>\n",
       "      <td>Men</td>\n",
       "    </tr>\n",
       "    <tr>\n",
       "      <th>4</th>\n",
       "      <td>5.0</td>\n",
       "      <td>SORATO</td>\n",
       "      <td>ANRAKU</td>\n",
       "      <td>JPN</td>\n",
       "      <td>3t5z 4 17</td>\n",
       "      <td>1t4z 1 12</td>\n",
       "      <td>0t3z 0 11</td>\n",
       "      <td>IFSC_World_Cup_Hachioji_2023</td>\n",
       "      <td>21 April - 23 April 2023</td>\n",
       "      <td>Men</td>\n",
       "    </tr>\n",
       "  </tbody>\n",
       "</table>\n",
       "</div>"
      ],
      "text/plain": [
       "   Rank    Name  Unnamed: 2 Country Qualification  Semi-final      Final  \\\n",
       "0   1.0   MEJDI     SCHALCK     FRA      4t4z 6 6    1t4z 2 9   2t3z 7 7   \n",
       "1   2.0  HANNES  VAN DUYSEN     BEL     3t5z 9 15   1t4z 8 14  1t3z 2 11   \n",
       "2   3.0    PAUL       JENFT     FRA     4t5z 10 9  2t4z 11 13   1t3z 3 3   \n",
       "3   4.0  KOKORO       FUJII     JPN     4t5z 8 17    1t2z 3 4   0t3z 0 9   \n",
       "4   5.0  SORATO      ANRAKU     JPN     3t5z 4 17   1t4z 1 12  0t3z 0 11   \n",
       "\n",
       "                     event_name                      date gender  \n",
       "0  IFSC_World_Cup_Hachioji_2023  21 April - 23 April 2023    Men  \n",
       "1  IFSC_World_Cup_Hachioji_2023  21 April - 23 April 2023    Men  \n",
       "2  IFSC_World_Cup_Hachioji_2023  21 April - 23 April 2023    Men  \n",
       "3  IFSC_World_Cup_Hachioji_2023  21 April - 23 April 2023    Men  \n",
       "4  IFSC_World_Cup_Hachioji_2023  21 April - 23 April 2023    Men  "
      ]
     },
     "execution_count": 14,
     "metadata": {},
     "output_type": "execute_result"
    }
   ],
   "source": [
    "boulder_df.head()"
   ]
  },
  {
   "cell_type": "code",
   "execution_count": 15,
   "metadata": {},
   "outputs": [
    {
     "data": {
      "text/html": [
       "<div>\n",
       "<style scoped>\n",
       "    .dataframe tbody tr th:only-of-type {\n",
       "        vertical-align: middle;\n",
       "    }\n",
       "\n",
       "    .dataframe tbody tr th {\n",
       "        vertical-align: top;\n",
       "    }\n",
       "\n",
       "    .dataframe thead th {\n",
       "        text-align: right;\n",
       "    }\n",
       "</style>\n",
       "<table border=\"1\" class=\"dataframe\">\n",
       "  <thead>\n",
       "    <tr style=\"text-align: right;\">\n",
       "      <th></th>\n",
       "      <th>Rank</th>\n",
       "      <th>Name</th>\n",
       "      <th>Unnamed: 2</th>\n",
       "      <th>Country</th>\n",
       "      <th>Qualification</th>\n",
       "      <th>Semi-final</th>\n",
       "      <th>Final</th>\n",
       "      <th>event_name</th>\n",
       "      <th>date</th>\n",
       "      <th>gender</th>\n",
       "    </tr>\n",
       "  </thead>\n",
       "  <tbody>\n",
       "    <tr>\n",
       "      <th>0</th>\n",
       "      <td>1.0</td>\n",
       "      <td>SASCHA</td>\n",
       "      <td>LEHMANN</td>\n",
       "      <td>SUI</td>\n",
       "      <td>4.03</td>\n",
       "      <td>43+</td>\n",
       "      <td>44+</td>\n",
       "      <td>IFSC_World_Cup_Innsbruck_2023</td>\n",
       "      <td>14 June - 18 June 2023</td>\n",
       "      <td>Men</td>\n",
       "    </tr>\n",
       "    <tr>\n",
       "      <th>1</th>\n",
       "      <td>2.0</td>\n",
       "      <td>ALEXANDER</td>\n",
       "      <td>MEGOS</td>\n",
       "      <td>GER</td>\n",
       "      <td>4.03</td>\n",
       "      <td>39+</td>\n",
       "      <td>44+</td>\n",
       "      <td>IFSC_World_Cup_Innsbruck_2023</td>\n",
       "      <td>14 June - 18 June 2023</td>\n",
       "      <td>Men</td>\n",
       "    </tr>\n",
       "    <tr>\n",
       "      <th>2</th>\n",
       "      <td>3.0</td>\n",
       "      <td>JAKOB</td>\n",
       "      <td>SCHUBERT</td>\n",
       "      <td>AUT</td>\n",
       "      <td>5.48</td>\n",
       "      <td>43</td>\n",
       "      <td>42+</td>\n",
       "      <td>IFSC_World_Cup_Innsbruck_2023</td>\n",
       "      <td>14 June - 18 June 2023</td>\n",
       "      <td>Men</td>\n",
       "    </tr>\n",
       "    <tr>\n",
       "      <th>3</th>\n",
       "      <td>4.0</td>\n",
       "      <td>SORATO</td>\n",
       "      <td>ANRAKU</td>\n",
       "      <td>JPN</td>\n",
       "      <td>2.5</td>\n",
       "      <td>40</td>\n",
       "      <td>42+</td>\n",
       "      <td>IFSC_World_Cup_Innsbruck_2023</td>\n",
       "      <td>14 June - 18 June 2023</td>\n",
       "      <td>Men</td>\n",
       "    </tr>\n",
       "    <tr>\n",
       "      <th>4</th>\n",
       "      <td>5.0</td>\n",
       "      <td>MEJDI</td>\n",
       "      <td>SCHALCK</td>\n",
       "      <td>FRA</td>\n",
       "      <td>15.2</td>\n",
       "      <td>40</td>\n",
       "      <td>42+</td>\n",
       "      <td>IFSC_World_Cup_Innsbruck_2023</td>\n",
       "      <td>14 June - 18 June 2023</td>\n",
       "      <td>Men</td>\n",
       "    </tr>\n",
       "  </tbody>\n",
       "</table>\n",
       "</div>"
      ],
      "text/plain": [
       "   Rank       Name Unnamed: 2 Country Qualification Semi-final Final  \\\n",
       "0   1.0     SASCHA    LEHMANN     SUI          4.03        43+   44+   \n",
       "1   2.0  ALEXANDER      MEGOS     GER          4.03        39+   44+   \n",
       "2   3.0      JAKOB   SCHUBERT     AUT          5.48         43   42+   \n",
       "3   4.0     SORATO     ANRAKU     JPN           2.5         40   42+   \n",
       "4   5.0      MEJDI    SCHALCK     FRA          15.2         40   42+   \n",
       "\n",
       "                      event_name                    date gender  \n",
       "0  IFSC_World_Cup_Innsbruck_2023  14 June - 18 June 2023    Men  \n",
       "1  IFSC_World_Cup_Innsbruck_2023  14 June - 18 June 2023    Men  \n",
       "2  IFSC_World_Cup_Innsbruck_2023  14 June - 18 June 2023    Men  \n",
       "3  IFSC_World_Cup_Innsbruck_2023  14 June - 18 June 2023    Men  \n",
       "4  IFSC_World_Cup_Innsbruck_2023  14 June - 18 June 2023    Men  "
      ]
     },
     "execution_count": 15,
     "metadata": {},
     "output_type": "execute_result"
    }
   ],
   "source": [
    "lead_df.head()"
   ]
  },
  {
   "cell_type": "code",
   "execution_count": 16,
   "metadata": {},
   "outputs": [
    {
     "data": {
      "text/html": [
       "<div>\n",
       "<style scoped>\n",
       "    .dataframe tbody tr th:only-of-type {\n",
       "        vertical-align: middle;\n",
       "    }\n",
       "\n",
       "    .dataframe tbody tr th {\n",
       "        vertical-align: top;\n",
       "    }\n",
       "\n",
       "    .dataframe thead th {\n",
       "        text-align: right;\n",
       "    }\n",
       "</style>\n",
       "<table border=\"1\" class=\"dataframe\">\n",
       "  <thead>\n",
       "    <tr style=\"text-align: right;\">\n",
       "      <th></th>\n",
       "      <th>Rank</th>\n",
       "      <th>Name</th>\n",
       "      <th>Unnamed: 2</th>\n",
       "      <th>Country</th>\n",
       "      <th>Qualification</th>\n",
       "      <th>Final</th>\n",
       "      <th>event_name</th>\n",
       "      <th>date</th>\n",
       "      <th>gender</th>\n",
       "    </tr>\n",
       "  </thead>\n",
       "  <tbody>\n",
       "    <tr>\n",
       "      <th>0</th>\n",
       "      <td>1.0</td>\n",
       "      <td>VEDDRIQ</td>\n",
       "      <td>LEONARDO</td>\n",
       "      <td>INA</td>\n",
       "      <td>4.98 (wr) (asr)</td>\n",
       "      <td>5.01</td>\n",
       "      <td>IFSC_World_Cup_Seoul_2023</td>\n",
       "      <td>28 April - 30 April 2023</td>\n",
       "      <td>Men</td>\n",
       "    </tr>\n",
       "    <tr>\n",
       "      <th>1</th>\n",
       "      <td>2.0</td>\n",
       "      <td>JINBAO</td>\n",
       "      <td>LONG</td>\n",
       "      <td>CHN</td>\n",
       "      <td>5.40</td>\n",
       "      <td>5.12</td>\n",
       "      <td>IFSC_World_Cup_Seoul_2023</td>\n",
       "      <td>28 April - 30 April 2023</td>\n",
       "      <td>Men</td>\n",
       "    </tr>\n",
       "    <tr>\n",
       "      <th>2</th>\n",
       "      <td>3.0</td>\n",
       "      <td>XINSHANG</td>\n",
       "      <td>WANG</td>\n",
       "      <td>CHN</td>\n",
       "      <td>5.17</td>\n",
       "      <td>5.11</td>\n",
       "      <td>IFSC_World_Cup_Seoul_2023</td>\n",
       "      <td>28 April - 30 April 2023</td>\n",
       "      <td>Men</td>\n",
       "    </tr>\n",
       "    <tr>\n",
       "      <th>3</th>\n",
       "      <td>4.0</td>\n",
       "      <td>JIANGUO</td>\n",
       "      <td>LONG</td>\n",
       "      <td>CHN</td>\n",
       "      <td>5.130</td>\n",
       "      <td>6.37</td>\n",
       "      <td>IFSC_World_Cup_Seoul_2023</td>\n",
       "      <td>28 April - 30 April 2023</td>\n",
       "      <td>Men</td>\n",
       "    </tr>\n",
       "    <tr>\n",
       "      <th>4</th>\n",
       "      <td>5.0</td>\n",
       "      <td>EUNCHEOL</td>\n",
       "      <td>SHIN</td>\n",
       "      <td>KOR</td>\n",
       "      <td>5.131</td>\n",
       "      <td>8.69 (5.131)</td>\n",
       "      <td>IFSC_World_Cup_Seoul_2023</td>\n",
       "      <td>28 April - 30 April 2023</td>\n",
       "      <td>Men</td>\n",
       "    </tr>\n",
       "  </tbody>\n",
       "</table>\n",
       "</div>"
      ],
      "text/plain": [
       "   Rank      Name Unnamed: 2 Country    Qualification         Final  \\\n",
       "0   1.0   VEDDRIQ   LEONARDO     INA  4.98 (wr) (asr)          5.01   \n",
       "1   2.0    JINBAO       LONG     CHN             5.40          5.12   \n",
       "2   3.0  XINSHANG       WANG     CHN             5.17          5.11   \n",
       "3   4.0   JIANGUO       LONG     CHN            5.130          6.37   \n",
       "4   5.0  EUNCHEOL       SHIN     KOR            5.131  8.69 (5.131)   \n",
       "\n",
       "                  event_name                      date gender  \n",
       "0  IFSC_World_Cup_Seoul_2023  28 April - 30 April 2023    Men  \n",
       "1  IFSC_World_Cup_Seoul_2023  28 April - 30 April 2023    Men  \n",
       "2  IFSC_World_Cup_Seoul_2023  28 April - 30 April 2023    Men  \n",
       "3  IFSC_World_Cup_Seoul_2023  28 April - 30 April 2023    Men  \n",
       "4  IFSC_World_Cup_Seoul_2023  28 April - 30 April 2023    Men  "
      ]
     },
     "execution_count": 16,
     "metadata": {},
     "output_type": "execute_result"
    }
   ],
   "source": [
    "speed_df.head()"
   ]
  },
  {
   "cell_type": "code",
   "execution_count": 17,
   "metadata": {},
   "outputs": [
    {
     "name": "stdout",
     "output_type": "stream",
     "text": [
      "Index(['Rank', 'FName', 'LName', 'Country', 'Qualification', 'Semi-final',\n",
      "       'Final', 'event_name', 'date', 'gender'],\n",
      "      dtype='object')\n",
      "Index(['Rank', 'FName', 'LName', 'Country', 'Qualification', 'Semi-final',\n",
      "       'Final', 'event_name', 'date', 'gender'],\n",
      "      dtype='object')\n",
      "Index(['Rank', 'FName', 'LName', 'Country', 'Qualification', 'Final',\n",
      "       'event_name', 'date', 'gender'],\n",
      "      dtype='object')\n"
     ]
    }
   ],
   "source": [
    "# Change columns names\n",
    "boulder_df = boulder_df.rename(columns={\"Name\": \"FName\", \"Unnamed: 2\":\"LName\"})\n",
    "lead_df = lead_df.rename(columns={\"Name\": \"FName\", \"Unnamed: 2\":\"LName\"})\n",
    "speed_df = speed_df.rename(columns={\"Name\": \"FName\", \"Unnamed: 2\":\"LName\"})\n",
    "\n",
    "print(boulder_df.columns)\n",
    "print(lead_df.columns)\n",
    "print(speed_df.columns)"
   ]
  },
  {
   "cell_type": "code",
   "execution_count": 18,
   "metadata": {},
   "outputs": [
    {
     "data": {
      "text/plain": [
       "event_name\n",
       "IFSC_World_Championships_Bern_2023    242\n",
       "IFSC_World_Cup_Innsbruck_2023         203\n",
       "IFSC_World_Cup_Brixen_2023            170\n",
       "IFSC_World_Cup_Prague_2023            168\n",
       "IFSC_World_Cup_Hachioji_2023          167\n",
       "28 April - 30 April 2023              165\n",
       "IFSC_World_Cup_Salt_Lake_City_2023    126\n",
       "Name: count, dtype: int64"
      ]
     },
     "execution_count": 18,
     "metadata": {},
     "output_type": "execute_result"
    }
   ],
   "source": [
    "# Change the event name to display only the city and year\n",
    "boulder_df['event_name'].value_counts()"
   ]
  },
  {
   "cell_type": "markdown",
   "metadata": {},
   "source": [
    "There is a string in the events_name columns `28 April - 30 April 2023` which does not make sense. Let's further explore this rows"
   ]
  },
  {
   "cell_type": "code",
   "execution_count": 19,
   "metadata": {},
   "outputs": [
    {
     "data": {
      "text/html": [
       "<div>\n",
       "<style scoped>\n",
       "    .dataframe tbody tr th:only-of-type {\n",
       "        vertical-align: middle;\n",
       "    }\n",
       "\n",
       "    .dataframe tbody tr th {\n",
       "        vertical-align: top;\n",
       "    }\n",
       "\n",
       "    .dataframe thead th {\n",
       "        text-align: right;\n",
       "    }\n",
       "</style>\n",
       "<table border=\"1\" class=\"dataframe\">\n",
       "  <thead>\n",
       "    <tr style=\"text-align: right;\">\n",
       "      <th></th>\n",
       "      <th>Rank</th>\n",
       "      <th>FName</th>\n",
       "      <th>LName</th>\n",
       "      <th>Country</th>\n",
       "      <th>Qualification</th>\n",
       "      <th>Semi-final</th>\n",
       "      <th>Final</th>\n",
       "      <th>event_name</th>\n",
       "      <th>date</th>\n",
       "      <th>gender</th>\n",
       "    </tr>\n",
       "  </thead>\n",
       "  <tbody>\n",
       "    <tr>\n",
       "      <th>167</th>\n",
       "      <td>1.0</td>\n",
       "      <td>MEJDI</td>\n",
       "      <td>SCHALCK</td>\n",
       "      <td>FRA</td>\n",
       "      <td>4t5z 9 8</td>\n",
       "      <td>2t3z 2 7</td>\n",
       "      <td>IFSC_World_Cup_Seoul_2023</td>\n",
       "      <td>28 April - 30 April 2023</td>\n",
       "      <td>Men</td>\n",
       "      <td>NaN</td>\n",
       "    </tr>\n",
       "    <tr>\n",
       "      <th>168</th>\n",
       "      <td>2.0</td>\n",
       "      <td>TOMOA</td>\n",
       "      <td>NARASAKI</td>\n",
       "      <td>JPN</td>\n",
       "      <td>4t5z 8 12</td>\n",
       "      <td>2t3z 6 10</td>\n",
       "      <td>IFSC_World_Cup_Seoul_2023</td>\n",
       "      <td>28 April - 30 April 2023</td>\n",
       "      <td>Men</td>\n",
       "      <td>NaN</td>\n",
       "    </tr>\n",
       "    <tr>\n",
       "      <th>169</th>\n",
       "      <td>3.0</td>\n",
       "      <td>JONGWON</td>\n",
       "      <td>CHON</td>\n",
       "      <td>KOR</td>\n",
       "      <td>4t4z 7 6</td>\n",
       "      <td>2t2z 2 2</td>\n",
       "      <td>IFSC_World_Cup_Seoul_2023</td>\n",
       "      <td>28 April - 30 April 2023</td>\n",
       "      <td>Men</td>\n",
       "      <td>NaN</td>\n",
       "    </tr>\n",
       "    <tr>\n",
       "      <th>170</th>\n",
       "      <td>4.0</td>\n",
       "      <td>DOHYUN</td>\n",
       "      <td>LEE</td>\n",
       "      <td>KOR</td>\n",
       "      <td>4t5z 7 11</td>\n",
       "      <td>1t2z 1 9</td>\n",
       "      <td>IFSC_World_Cup_Seoul_2023</td>\n",
       "      <td>28 April - 30 April 2023</td>\n",
       "      <td>Men</td>\n",
       "      <td>NaN</td>\n",
       "    </tr>\n",
       "    <tr>\n",
       "      <th>171</th>\n",
       "      <td>5.0</td>\n",
       "      <td>MANUEL</td>\n",
       "      <td>CORNU</td>\n",
       "      <td>FRA</td>\n",
       "      <td>4t5z 9 13</td>\n",
       "      <td>1t2z 4 5</td>\n",
       "      <td>IFSC_World_Cup_Seoul_2023</td>\n",
       "      <td>28 April - 30 April 2023</td>\n",
       "      <td>Men</td>\n",
       "      <td>NaN</td>\n",
       "    </tr>\n",
       "    <tr>\n",
       "      <th>...</th>\n",
       "      <td>...</td>\n",
       "      <td>...</td>\n",
       "      <td>...</td>\n",
       "      <td>...</td>\n",
       "      <td>...</td>\n",
       "      <td>...</td>\n",
       "      <td>...</td>\n",
       "      <td>...</td>\n",
       "      <td>...</td>\n",
       "      <td>...</td>\n",
       "    </tr>\n",
       "    <tr>\n",
       "      <th>327</th>\n",
       "      <td>69.0</td>\n",
       "      <td>DASOM</td>\n",
       "      <td>YUN</td>\n",
       "      <td>KOR</td>\n",
       "      <td>0t0z 0 0</td>\n",
       "      <td>NaN</td>\n",
       "      <td>IFSC_World_Cup_Seoul_2023</td>\n",
       "      <td>28 April - 30 April 2023</td>\n",
       "      <td>Women</td>\n",
       "      <td>NaN</td>\n",
       "    </tr>\n",
       "    <tr>\n",
       "      <th>328</th>\n",
       "      <td>75.0</td>\n",
       "      <td>PRATEEKSHA</td>\n",
       "      <td>ARUN</td>\n",
       "      <td>IND</td>\n",
       "      <td>0t0z 0 0</td>\n",
       "      <td>NaN</td>\n",
       "      <td>IFSC_World_Cup_Seoul_2023</td>\n",
       "      <td>28 April - 30 April 2023</td>\n",
       "      <td>Women</td>\n",
       "      <td>NaN</td>\n",
       "    </tr>\n",
       "    <tr>\n",
       "      <th>329</th>\n",
       "      <td>75.0</td>\n",
       "      <td>WAI-MUI</td>\n",
       "      <td>LING</td>\n",
       "      <td>HKG</td>\n",
       "      <td>0t0z 0 0</td>\n",
       "      <td>NaN</td>\n",
       "      <td>IFSC_World_Cup_Seoul_2023</td>\n",
       "      <td>28 April - 30 April 2023</td>\n",
       "      <td>Women</td>\n",
       "      <td>NaN</td>\n",
       "    </tr>\n",
       "    <tr>\n",
       "      <th>330</th>\n",
       "      <td>75.0</td>\n",
       "      <td>ELIZABETH</td>\n",
       "      <td>SEPULVEDA</td>\n",
       "      <td>PUR</td>\n",
       "      <td>0t0z 0 0</td>\n",
       "      <td>NaN</td>\n",
       "      <td>IFSC_World_Cup_Seoul_2023</td>\n",
       "      <td>28 April - 30 April 2023</td>\n",
       "      <td>Women</td>\n",
       "      <td>NaN</td>\n",
       "    </tr>\n",
       "    <tr>\n",
       "      <th>331</th>\n",
       "      <td>75.0</td>\n",
       "      <td>ALEKSANDRA</td>\n",
       "      <td>TOTKOVA</td>\n",
       "      <td>BUL</td>\n",
       "      <td>0t0z 0 0</td>\n",
       "      <td>NaN</td>\n",
       "      <td>IFSC_World_Cup_Seoul_2023</td>\n",
       "      <td>28 April - 30 April 2023</td>\n",
       "      <td>Women</td>\n",
       "      <td>NaN</td>\n",
       "    </tr>\n",
       "  </tbody>\n",
       "</table>\n",
       "<p>165 rows × 10 columns</p>\n",
       "</div>"
      ],
      "text/plain": [
       "     Rank       FName      LName Country Qualification Semi-final  \\\n",
       "167   1.0       MEJDI    SCHALCK     FRA      4t5z 9 8   2t3z 2 7   \n",
       "168   2.0       TOMOA   NARASAKI     JPN     4t5z 8 12  2t3z 6 10   \n",
       "169   3.0     JONGWON       CHON     KOR      4t4z 7 6   2t2z 2 2   \n",
       "170   4.0      DOHYUN        LEE     KOR     4t5z 7 11   1t2z 1 9   \n",
       "171   5.0      MANUEL      CORNU     FRA     4t5z 9 13   1t2z 4 5   \n",
       "..    ...         ...        ...     ...           ...        ...   \n",
       "327  69.0       DASOM        YUN     KOR      0t0z 0 0        NaN   \n",
       "328  75.0  PRATEEKSHA       ARUN     IND      0t0z 0 0        NaN   \n",
       "329  75.0     WAI-MUI       LING     HKG      0t0z 0 0        NaN   \n",
       "330  75.0   ELIZABETH  SEPULVEDA     PUR      0t0z 0 0        NaN   \n",
       "331  75.0  ALEKSANDRA    TOTKOVA     BUL      0t0z 0 0        NaN   \n",
       "\n",
       "                         Final                event_name   date gender  \n",
       "167  IFSC_World_Cup_Seoul_2023  28 April - 30 April 2023    Men    NaN  \n",
       "168  IFSC_World_Cup_Seoul_2023  28 April - 30 April 2023    Men    NaN  \n",
       "169  IFSC_World_Cup_Seoul_2023  28 April - 30 April 2023    Men    NaN  \n",
       "170  IFSC_World_Cup_Seoul_2023  28 April - 30 April 2023    Men    NaN  \n",
       "171  IFSC_World_Cup_Seoul_2023  28 April - 30 April 2023    Men    NaN  \n",
       "..                         ...                       ...    ...    ...  \n",
       "327  IFSC_World_Cup_Seoul_2023  28 April - 30 April 2023  Women    NaN  \n",
       "328  IFSC_World_Cup_Seoul_2023  28 April - 30 April 2023  Women    NaN  \n",
       "329  IFSC_World_Cup_Seoul_2023  28 April - 30 April 2023  Women    NaN  \n",
       "330  IFSC_World_Cup_Seoul_2023  28 April - 30 April 2023  Women    NaN  \n",
       "331  IFSC_World_Cup_Seoul_2023  28 April - 30 April 2023  Women    NaN  \n",
       "\n",
       "[165 rows x 10 columns]"
      ]
     },
     "execution_count": 19,
     "metadata": {},
     "output_type": "execute_result"
    }
   ],
   "source": [
    "boulder_df[boulder_df['event_name'] == '28 April - 30 April 2023']"
   ]
  },
  {
   "cell_type": "markdown",
   "metadata": {},
   "source": [
    "After googling a bit, the boulder final round of the Seoul 2023 world cup was cancelled due to weather; therefore, there is not final results and the semifinals results were used to determined the winners.\n",
    "- [ifsc websit](https://www.ifsc-climbing.org/index.php/component/ifsc/?view=event&WetId=1292)\n",
    "- [olympics website](https://olympics.com/en/news/mejdi-schalck-nonaka-miho-win-boulder-seoul-results)\n",
    "\n",
    "To fix this, I will shift those values to the right, and then copy the semi-final results to the final column."
   ]
  },
  {
   "cell_type": "code",
   "execution_count": 20,
   "metadata": {},
   "outputs": [],
   "source": [
    "# Shifts the values from row 167 to 331 to the right, then copy the values from the semi-final columns to the final column.\n",
    "starting_row = 167\n",
    "ending_row = 331\n",
    "\n",
    "# Shift columns\n",
    "boulder_df.iloc[starting_row:ending_row+1, 7:] = boulder_df.iloc[starting_row:ending_row+1, 6:-1].values\n",
    "boulder_df.loc[starting_row:ending_row, 'Final'] = boulder_df.loc[starting_row:ending_row,'Semi-final']"
   ]
  },
  {
   "cell_type": "code",
   "execution_count": 21,
   "metadata": {},
   "outputs": [
    {
     "data": {
      "text/html": [
       "<div>\n",
       "<style scoped>\n",
       "    .dataframe tbody tr th:only-of-type {\n",
       "        vertical-align: middle;\n",
       "    }\n",
       "\n",
       "    .dataframe tbody tr th {\n",
       "        vertical-align: top;\n",
       "    }\n",
       "\n",
       "    .dataframe thead th {\n",
       "        text-align: right;\n",
       "    }\n",
       "</style>\n",
       "<table border=\"1\" class=\"dataframe\">\n",
       "  <thead>\n",
       "    <tr style=\"text-align: right;\">\n",
       "      <th></th>\n",
       "      <th>Rank</th>\n",
       "      <th>FName</th>\n",
       "      <th>LName</th>\n",
       "      <th>Country</th>\n",
       "      <th>Qualification</th>\n",
       "      <th>Semi-final</th>\n",
       "      <th>Final</th>\n",
       "      <th>event_name</th>\n",
       "      <th>date</th>\n",
       "      <th>gender</th>\n",
       "    </tr>\n",
       "  </thead>\n",
       "  <tbody>\n",
       "    <tr>\n",
       "      <th>167</th>\n",
       "      <td>1.0</td>\n",
       "      <td>MEJDI</td>\n",
       "      <td>SCHALCK</td>\n",
       "      <td>FRA</td>\n",
       "      <td>4t5z 9 8</td>\n",
       "      <td>2t3z 2 7</td>\n",
       "      <td>2t3z 2 7</td>\n",
       "      <td>IFSC_World_Cup_Seoul_2023</td>\n",
       "      <td>28 April - 30 April 2023</td>\n",
       "      <td>Men</td>\n",
       "    </tr>\n",
       "    <tr>\n",
       "      <th>168</th>\n",
       "      <td>2.0</td>\n",
       "      <td>TOMOA</td>\n",
       "      <td>NARASAKI</td>\n",
       "      <td>JPN</td>\n",
       "      <td>4t5z 8 12</td>\n",
       "      <td>2t3z 6 10</td>\n",
       "      <td>2t3z 6 10</td>\n",
       "      <td>IFSC_World_Cup_Seoul_2023</td>\n",
       "      <td>28 April - 30 April 2023</td>\n",
       "      <td>Men</td>\n",
       "    </tr>\n",
       "    <tr>\n",
       "      <th>169</th>\n",
       "      <td>3.0</td>\n",
       "      <td>JONGWON</td>\n",
       "      <td>CHON</td>\n",
       "      <td>KOR</td>\n",
       "      <td>4t4z 7 6</td>\n",
       "      <td>2t2z 2 2</td>\n",
       "      <td>2t2z 2 2</td>\n",
       "      <td>IFSC_World_Cup_Seoul_2023</td>\n",
       "      <td>28 April - 30 April 2023</td>\n",
       "      <td>Men</td>\n",
       "    </tr>\n",
       "    <tr>\n",
       "      <th>170</th>\n",
       "      <td>4.0</td>\n",
       "      <td>DOHYUN</td>\n",
       "      <td>LEE</td>\n",
       "      <td>KOR</td>\n",
       "      <td>4t5z 7 11</td>\n",
       "      <td>1t2z 1 9</td>\n",
       "      <td>1t2z 1 9</td>\n",
       "      <td>IFSC_World_Cup_Seoul_2023</td>\n",
       "      <td>28 April - 30 April 2023</td>\n",
       "      <td>Men</td>\n",
       "    </tr>\n",
       "    <tr>\n",
       "      <th>171</th>\n",
       "      <td>5.0</td>\n",
       "      <td>MANUEL</td>\n",
       "      <td>CORNU</td>\n",
       "      <td>FRA</td>\n",
       "      <td>4t5z 9 13</td>\n",
       "      <td>1t2z 4 5</td>\n",
       "      <td>1t2z 4 5</td>\n",
       "      <td>IFSC_World_Cup_Seoul_2023</td>\n",
       "      <td>28 April - 30 April 2023</td>\n",
       "      <td>Men</td>\n",
       "    </tr>\n",
       "    <tr>\n",
       "      <th>...</th>\n",
       "      <td>...</td>\n",
       "      <td>...</td>\n",
       "      <td>...</td>\n",
       "      <td>...</td>\n",
       "      <td>...</td>\n",
       "      <td>...</td>\n",
       "      <td>...</td>\n",
       "      <td>...</td>\n",
       "      <td>...</td>\n",
       "      <td>...</td>\n",
       "    </tr>\n",
       "    <tr>\n",
       "      <th>326</th>\n",
       "      <td>69.0</td>\n",
       "      <td>TSENG-SHUN</td>\n",
       "      <td>WONG</td>\n",
       "      <td>HKG</td>\n",
       "      <td>0t1z 0 3</td>\n",
       "      <td>NaN</td>\n",
       "      <td>NaN</td>\n",
       "      <td>IFSC_World_Cup_Seoul_2023</td>\n",
       "      <td>28 April - 30 April 2023</td>\n",
       "      <td>Women</td>\n",
       "    </tr>\n",
       "    <tr>\n",
       "      <th>327</th>\n",
       "      <td>69.0</td>\n",
       "      <td>DASOM</td>\n",
       "      <td>YUN</td>\n",
       "      <td>KOR</td>\n",
       "      <td>0t0z 0 0</td>\n",
       "      <td>NaN</td>\n",
       "      <td>NaN</td>\n",
       "      <td>IFSC_World_Cup_Seoul_2023</td>\n",
       "      <td>28 April - 30 April 2023</td>\n",
       "      <td>Women</td>\n",
       "    </tr>\n",
       "    <tr>\n",
       "      <th>328</th>\n",
       "      <td>75.0</td>\n",
       "      <td>PRATEEKSHA</td>\n",
       "      <td>ARUN</td>\n",
       "      <td>IND</td>\n",
       "      <td>0t0z 0 0</td>\n",
       "      <td>NaN</td>\n",
       "      <td>NaN</td>\n",
       "      <td>IFSC_World_Cup_Seoul_2023</td>\n",
       "      <td>28 April - 30 April 2023</td>\n",
       "      <td>Women</td>\n",
       "    </tr>\n",
       "    <tr>\n",
       "      <th>329</th>\n",
       "      <td>75.0</td>\n",
       "      <td>WAI-MUI</td>\n",
       "      <td>LING</td>\n",
       "      <td>HKG</td>\n",
       "      <td>0t0z 0 0</td>\n",
       "      <td>NaN</td>\n",
       "      <td>NaN</td>\n",
       "      <td>IFSC_World_Cup_Seoul_2023</td>\n",
       "      <td>28 April - 30 April 2023</td>\n",
       "      <td>Women</td>\n",
       "    </tr>\n",
       "    <tr>\n",
       "      <th>330</th>\n",
       "      <td>75.0</td>\n",
       "      <td>ELIZABETH</td>\n",
       "      <td>SEPULVEDA</td>\n",
       "      <td>PUR</td>\n",
       "      <td>0t0z 0 0</td>\n",
       "      <td>NaN</td>\n",
       "      <td>NaN</td>\n",
       "      <td>IFSC_World_Cup_Seoul_2023</td>\n",
       "      <td>28 April - 30 April 2023</td>\n",
       "      <td>Women</td>\n",
       "    </tr>\n",
       "  </tbody>\n",
       "</table>\n",
       "<p>164 rows × 10 columns</p>\n",
       "</div>"
      ],
      "text/plain": [
       "     Rank       FName      LName Country Qualification Semi-final      Final  \\\n",
       "167   1.0       MEJDI    SCHALCK     FRA      4t5z 9 8   2t3z 2 7   2t3z 2 7   \n",
       "168   2.0       TOMOA   NARASAKI     JPN     4t5z 8 12  2t3z 6 10  2t3z 6 10   \n",
       "169   3.0     JONGWON       CHON     KOR      4t4z 7 6   2t2z 2 2   2t2z 2 2   \n",
       "170   4.0      DOHYUN        LEE     KOR     4t5z 7 11   1t2z 1 9   1t2z 1 9   \n",
       "171   5.0      MANUEL      CORNU     FRA     4t5z 9 13   1t2z 4 5   1t2z 4 5   \n",
       "..    ...         ...        ...     ...           ...        ...        ...   \n",
       "326  69.0  TSENG-SHUN       WONG     HKG      0t1z 0 3        NaN        NaN   \n",
       "327  69.0       DASOM        YUN     KOR      0t0z 0 0        NaN        NaN   \n",
       "328  75.0  PRATEEKSHA       ARUN     IND      0t0z 0 0        NaN        NaN   \n",
       "329  75.0     WAI-MUI       LING     HKG      0t0z 0 0        NaN        NaN   \n",
       "330  75.0   ELIZABETH  SEPULVEDA     PUR      0t0z 0 0        NaN        NaN   \n",
       "\n",
       "                    event_name                      date gender  \n",
       "167  IFSC_World_Cup_Seoul_2023  28 April - 30 April 2023    Men  \n",
       "168  IFSC_World_Cup_Seoul_2023  28 April - 30 April 2023    Men  \n",
       "169  IFSC_World_Cup_Seoul_2023  28 April - 30 April 2023    Men  \n",
       "170  IFSC_World_Cup_Seoul_2023  28 April - 30 April 2023    Men  \n",
       "171  IFSC_World_Cup_Seoul_2023  28 April - 30 April 2023    Men  \n",
       "..                         ...                       ...    ...  \n",
       "326  IFSC_World_Cup_Seoul_2023  28 April - 30 April 2023  Women  \n",
       "327  IFSC_World_Cup_Seoul_2023  28 April - 30 April 2023  Women  \n",
       "328  IFSC_World_Cup_Seoul_2023  28 April - 30 April 2023  Women  \n",
       "329  IFSC_World_Cup_Seoul_2023  28 April - 30 April 2023  Women  \n",
       "330  IFSC_World_Cup_Seoul_2023  28 April - 30 April 2023  Women  \n",
       "\n",
       "[164 rows x 10 columns]"
      ]
     },
     "execution_count": 21,
     "metadata": {},
     "output_type": "execute_result"
    }
   ],
   "source": [
    "boulder_df.iloc[starting_row:ending_row]"
   ]
  },
  {
   "cell_type": "code",
   "execution_count": 22,
   "metadata": {},
   "outputs": [
    {
     "data": {
      "text/plain": [
       "event_name\n",
       "IFSC_World_Championships_Bern_2023    242\n",
       "IFSC_World_Cup_Innsbruck_2023         203\n",
       "IFSC_World_Cup_Brixen_2023            170\n",
       "IFSC_World_Cup_Prague_2023            168\n",
       "IFSC_World_Cup_Hachioji_2023          167\n",
       "IFSC_World_Cup_Seoul_2023             165\n",
       "IFSC_World_Cup_Salt_Lake_City_2023    126\n",
       "Name: count, dtype: int64"
      ]
     },
     "execution_count": 22,
     "metadata": {},
     "output_type": "execute_result"
    }
   ],
   "source": [
    "boulder_df['event_name'].value_counts()"
   ]
  },
  {
   "cell_type": "code",
   "execution_count": 23,
   "metadata": {},
   "outputs": [
    {
     "data": {
      "text/plain": [
       "event_name\n",
       "IFSC_World_Championships_Bern_2023    230\n",
       "IFSC_World_Cup_Innsbruck_2023         200\n",
       "IFSC_World_Cup_Villars_2023           181\n",
       "IFSC_World_Cup_Chamonix_2023          176\n",
       "IFSC_World_Cup_Briançon_2023          143\n",
       "IFSC_World_Cup_Koper_2023             122\n",
       "IFSC_World_Cup_Wujiang_2023            93\n",
       "Name: count, dtype: int64"
      ]
     },
     "execution_count": 23,
     "metadata": {},
     "output_type": "execute_result"
    }
   ],
   "source": [
    "lead_df['event_name'].value_counts()"
   ]
  },
  {
   "cell_type": "code",
   "execution_count": 24,
   "metadata": {},
   "outputs": [
    {
     "data": {
      "text/plain": [
       "event_name\n",
       "IFSC_World_Championships_Bern_2023    136\n",
       "IFSC_World_Cup_Villars_2023           133\n",
       "IFSC_World_Cup_Chamonix_2023          129\n",
       "IFSC_World_Cup_Seoul_2023             122\n",
       "IFSC_World_Cup_Jakarta_2023           119\n",
       "IFSC_World_Cup_Salt_Lake_City_2023    113\n",
       "IFSC_World_Cup_Wujiang_2023            85\n",
       "Name: count, dtype: int64"
      ]
     },
     "execution_count": 24,
     "metadata": {},
     "output_type": "execute_result"
    }
   ],
   "source": [
    "speed_df['event_name'].value_counts()"
   ]
  },
  {
   "cell_type": "code",
   "execution_count": 25,
   "metadata": {},
   "outputs": [],
   "source": [
    "# Normalize event names to city_year\n",
    "def normalize_event_name(event_name):\n",
    "   return event_name.split(\"_\", 3)[2:][1]"
   ]
  },
  {
   "cell_type": "code",
   "execution_count": 26,
   "metadata": {},
   "outputs": [],
   "source": [
    "boulder_df['event_name'] = boulder_df['event_name'].apply(normalize_event_name)\n",
    "lead_df['event_name'] = lead_df['event_name'].apply(normalize_event_name)\n",
    "speed_df['event_name'] = speed_df['event_name'].apply(normalize_event_name)"
   ]
  },
  {
   "cell_type": "code",
   "execution_count": 27,
   "metadata": {},
   "outputs": [
    {
     "data": {
      "text/plain": [
       "event_name\n",
       "Bern_2023              242\n",
       "Innsbruck_2023         203\n",
       "Brixen_2023            170\n",
       "Prague_2023            168\n",
       "Hachioji_2023          167\n",
       "Seoul_2023             165\n",
       "Salt_Lake_City_2023    126\n",
       "Name: count, dtype: int64"
      ]
     },
     "execution_count": 27,
     "metadata": {},
     "output_type": "execute_result"
    }
   ],
   "source": [
    "boulder_df['event_name'].value_counts()"
   ]
  },
  {
   "cell_type": "code",
   "execution_count": 28,
   "metadata": {},
   "outputs": [
    {
     "data": {
      "text/plain": [
       "event_name\n",
       "Bern_2023         230\n",
       "Innsbruck_2023    200\n",
       "Villars_2023      181\n",
       "Chamonix_2023     176\n",
       "Briançon_2023     143\n",
       "Koper_2023        122\n",
       "Wujiang_2023       93\n",
       "Name: count, dtype: int64"
      ]
     },
     "execution_count": 28,
     "metadata": {},
     "output_type": "execute_result"
    }
   ],
   "source": [
    "lead_df['event_name'].value_counts()"
   ]
  },
  {
   "cell_type": "code",
   "execution_count": 29,
   "metadata": {},
   "outputs": [
    {
     "data": {
      "text/plain": [
       "event_name\n",
       "Bern_2023              136\n",
       "Villars_2023           133\n",
       "Chamonix_2023          129\n",
       "Seoul_2023             122\n",
       "Jakarta_2023           119\n",
       "Salt_Lake_City_2023    113\n",
       "Wujiang_2023            85\n",
       "Name: count, dtype: int64"
      ]
     },
     "execution_count": 29,
     "metadata": {},
     "output_type": "execute_result"
    }
   ],
   "source": [
    "speed_df['event_name'].value_counts()"
   ]
  },
  {
   "cell_type": "code",
   "execution_count": 30,
   "metadata": {},
   "outputs": [],
   "source": [
    "# Let's add new columns for start and end date for competitions\n",
    "def extract_dates(df, date_column):\n",
    "    # Extract start and end dates\n",
    "    df[['start_date', 'end_date']] = df[date_column].str.extract(r'(\\d+ \\w+) - (\\d+ \\w+ \\d+)')\n",
    "\n",
    "    # Extract the year from the end_date and add it to start_date\n",
    "    df['start_date'] = df['start_date'] + ' ' + df['end_date'].str.split().str[-1]\n",
    "\n",
    "    # Convert to datetime data type\n",
    "    df['start_date'] = pd.to_datetime(df['start_date'], format='%d %B %Y')\n",
    "    df['end_date'] = pd.to_datetime(df['end_date'], format='%d %B %Y')\n",
    "\n",
    "    return df"
   ]
  },
  {
   "cell_type": "code",
   "execution_count": 31,
   "metadata": {},
   "outputs": [],
   "source": [
    "boulder_df = extract_dates(boulder_df, 'date')\n",
    "lead_df = extract_dates(lead_df, 'date')\n",
    "speed_df = extract_dates(speed_df, 'date')"
   ]
  },
  {
   "cell_type": "code",
   "execution_count": 32,
   "metadata": {},
   "outputs": [],
   "source": [
    "# Add a column with the event duration\n",
    "boulder_df['event_duration'] = (boulder_df['end_date'] - boulder_df['start_date']).dt.days\n",
    "lead_df['event_duration'] = (lead_df['end_date'] - lead_df['start_date']).dt.days\n",
    "speed_df['event_duration'] = (speed_df['end_date'] - speed_df['start_date']).dt.days"
   ]
  },
  {
   "cell_type": "code",
   "execution_count": 33,
   "metadata": {},
   "outputs": [
    {
     "data": {
      "text/plain": [
       "Rank              0\n",
       "FName             0\n",
       "LName             0\n",
       "Country           0\n",
       "Qualification     9\n",
       "Semi-final        0\n",
       "Final             0\n",
       "event_name        0\n",
       "date              0\n",
       "gender            0\n",
       "start_date        0\n",
       "end_date          0\n",
       "event_duration    0\n",
       "dtype: int64"
      ]
     },
     "execution_count": 33,
     "metadata": {},
     "output_type": "execute_result"
    }
   ],
   "source": [
    "# Count number of 'dns' occurrences\n",
    "boulder_df.eq('dns').sum()"
   ]
  },
  {
   "cell_type": "code",
   "execution_count": 26,
   "metadata": {},
   "outputs": [
    {
     "data": {
      "text/plain": [
       "Rank               0\n",
       "FName              0\n",
       "LName              0\n",
       "Country            0\n",
       "Qualification     12\n",
       "Semi-final         0\n",
       "Final              0\n",
       "event_name         0\n",
       "date               0\n",
       "gender             0\n",
       "start_date         0\n",
       "end_date           0\n",
       "event_duration     0\n",
       "dtype: int64"
      ]
     },
     "execution_count": 26,
     "metadata": {},
     "output_type": "execute_result"
    }
   ],
   "source": [
    "lead_df.eq('dns').sum()"
   ]
  },
  {
   "cell_type": "code",
   "execution_count": 27,
   "metadata": {},
   "outputs": [
    {
     "data": {
      "text/plain": [
       "Rank              0\n",
       "FName             0\n",
       "LName             0\n",
       "Country           0\n",
       "Qualification     4\n",
       "Final             0\n",
       "event_name        0\n",
       "date              0\n",
       "gender            0\n",
       "start_date        0\n",
       "end_date          0\n",
       "event_duration    0\n",
       "dtype: int64"
      ]
     },
     "execution_count": 27,
     "metadata": {},
     "output_type": "execute_result"
    }
   ],
   "source": [
    "speed_df.eq('dns').sum()"
   ]
  },
  {
   "cell_type": "code",
   "execution_count": 34,
   "metadata": {},
   "outputs": [],
   "source": [
    "# Remove athletes with 'dns' status in qualification column for all diciplines\n",
    "boulder_df = boulder_df[boulder_df['Qualification'] != 'dns']\n",
    "lead_df = lead_df[lead_df['Qualification'] != 'dns']\n",
    "speed_df = speed_df[speed_df['Qualification'] != 'dns']"
   ]
  },
  {
   "cell_type": "code",
   "execution_count": 42,
   "metadata": {},
   "outputs": [
    {
     "data": {
      "text/html": [
       "<div>\n",
       "<style scoped>\n",
       "    .dataframe tbody tr th:only-of-type {\n",
       "        vertical-align: middle;\n",
       "    }\n",
       "\n",
       "    .dataframe tbody tr th {\n",
       "        vertical-align: top;\n",
       "    }\n",
       "\n",
       "    .dataframe thead th {\n",
       "        text-align: right;\n",
       "    }\n",
       "</style>\n",
       "<table border=\"1\" class=\"dataframe\">\n",
       "  <thead>\n",
       "    <tr style=\"text-align: right;\">\n",
       "      <th></th>\n",
       "      <th>Rank</th>\n",
       "      <th>FName</th>\n",
       "      <th>LName</th>\n",
       "      <th>Country</th>\n",
       "      <th>Qualification</th>\n",
       "      <th>Semi-final</th>\n",
       "      <th>Final</th>\n",
       "      <th>event_name</th>\n",
       "      <th>date</th>\n",
       "      <th>gender</th>\n",
       "      <th>start_date</th>\n",
       "      <th>end_date</th>\n",
       "      <th>event_duration</th>\n",
       "    </tr>\n",
       "  </thead>\n",
       "  <tbody>\n",
       "    <tr>\n",
       "      <th>0</th>\n",
       "      <td>1.0</td>\n",
       "      <td>SASCHA</td>\n",
       "      <td>LEHMANN</td>\n",
       "      <td>SUI</td>\n",
       "      <td>4.03</td>\n",
       "      <td>43+</td>\n",
       "      <td>44+</td>\n",
       "      <td>Innsbruck_2023</td>\n",
       "      <td>14 June - 18 June 2023</td>\n",
       "      <td>Men</td>\n",
       "      <td>2023-06-14</td>\n",
       "      <td>2023-06-18</td>\n",
       "      <td>4</td>\n",
       "    </tr>\n",
       "    <tr>\n",
       "      <th>1</th>\n",
       "      <td>2.0</td>\n",
       "      <td>ALEXANDER</td>\n",
       "      <td>MEGOS</td>\n",
       "      <td>GER</td>\n",
       "      <td>4.03</td>\n",
       "      <td>39+</td>\n",
       "      <td>44+</td>\n",
       "      <td>Innsbruck_2023</td>\n",
       "      <td>14 June - 18 June 2023</td>\n",
       "      <td>Men</td>\n",
       "      <td>2023-06-14</td>\n",
       "      <td>2023-06-18</td>\n",
       "      <td>4</td>\n",
       "    </tr>\n",
       "    <tr>\n",
       "      <th>2</th>\n",
       "      <td>3.0</td>\n",
       "      <td>JAKOB</td>\n",
       "      <td>SCHUBERT</td>\n",
       "      <td>AUT</td>\n",
       "      <td>5.48</td>\n",
       "      <td>43</td>\n",
       "      <td>42+</td>\n",
       "      <td>Innsbruck_2023</td>\n",
       "      <td>14 June - 18 June 2023</td>\n",
       "      <td>Men</td>\n",
       "      <td>2023-06-14</td>\n",
       "      <td>2023-06-18</td>\n",
       "      <td>4</td>\n",
       "    </tr>\n",
       "    <tr>\n",
       "      <th>3</th>\n",
       "      <td>4.0</td>\n",
       "      <td>SORATO</td>\n",
       "      <td>ANRAKU</td>\n",
       "      <td>JPN</td>\n",
       "      <td>2.5</td>\n",
       "      <td>40</td>\n",
       "      <td>42+</td>\n",
       "      <td>Innsbruck_2023</td>\n",
       "      <td>14 June - 18 June 2023</td>\n",
       "      <td>Men</td>\n",
       "      <td>2023-06-14</td>\n",
       "      <td>2023-06-18</td>\n",
       "      <td>4</td>\n",
       "    </tr>\n",
       "    <tr>\n",
       "      <th>4</th>\n",
       "      <td>5.0</td>\n",
       "      <td>MEJDI</td>\n",
       "      <td>SCHALCK</td>\n",
       "      <td>FRA</td>\n",
       "      <td>15.2</td>\n",
       "      <td>40</td>\n",
       "      <td>42+</td>\n",
       "      <td>Innsbruck_2023</td>\n",
       "      <td>14 June - 18 June 2023</td>\n",
       "      <td>Men</td>\n",
       "      <td>2023-06-14</td>\n",
       "      <td>2023-06-18</td>\n",
       "      <td>4</td>\n",
       "    </tr>\n",
       "    <tr>\n",
       "      <th>5</th>\n",
       "      <td>6.0</td>\n",
       "      <td>SATONE</td>\n",
       "      <td>YOSHIDA</td>\n",
       "      <td>JPN</td>\n",
       "      <td>4.03</td>\n",
       "      <td>39+</td>\n",
       "      <td>42+</td>\n",
       "      <td>Innsbruck_2023</td>\n",
       "      <td>14 June - 18 June 2023</td>\n",
       "      <td>Men</td>\n",
       "      <td>2023-06-14</td>\n",
       "      <td>2023-06-18</td>\n",
       "      <td>4</td>\n",
       "    </tr>\n",
       "    <tr>\n",
       "      <th>6</th>\n",
       "      <td>7.0</td>\n",
       "      <td>MASAHIRO</td>\n",
       "      <td>HIGUCHI</td>\n",
       "      <td>JPN</td>\n",
       "      <td>14.07</td>\n",
       "      <td>42+</td>\n",
       "      <td>42</td>\n",
       "      <td>Innsbruck_2023</td>\n",
       "      <td>14 June - 18 June 2023</td>\n",
       "      <td>Men</td>\n",
       "      <td>2023-06-14</td>\n",
       "      <td>2023-06-18</td>\n",
       "      <td>4</td>\n",
       "    </tr>\n",
       "    <tr>\n",
       "      <th>7</th>\n",
       "      <td>8.0</td>\n",
       "      <td>ALBERTO</td>\n",
       "      <td>GINÉS LÓPEZ</td>\n",
       "      <td>ESP</td>\n",
       "      <td>22.05</td>\n",
       "      <td>40</td>\n",
       "      <td>42</td>\n",
       "      <td>Innsbruck_2023</td>\n",
       "      <td>14 June - 18 June 2023</td>\n",
       "      <td>Men</td>\n",
       "      <td>2023-06-14</td>\n",
       "      <td>2023-06-18</td>\n",
       "      <td>4</td>\n",
       "    </tr>\n",
       "    <tr>\n",
       "      <th>8</th>\n",
       "      <td>9.0</td>\n",
       "      <td>TAISEI</td>\n",
       "      <td>HOMMA</td>\n",
       "      <td>JPN</td>\n",
       "      <td>7.65</td>\n",
       "      <td>42</td>\n",
       "      <td>40+</td>\n",
       "      <td>Innsbruck_2023</td>\n",
       "      <td>14 June - 18 June 2023</td>\n",
       "      <td>Men</td>\n",
       "      <td>2023-06-14</td>\n",
       "      <td>2023-06-18</td>\n",
       "      <td>4</td>\n",
       "    </tr>\n",
       "    <tr>\n",
       "      <th>9</th>\n",
       "      <td>10.0</td>\n",
       "      <td>AO</td>\n",
       "      <td>YURIKUSA</td>\n",
       "      <td>JPN</td>\n",
       "      <td>9.87</td>\n",
       "      <td>39+</td>\n",
       "      <td>NaN</td>\n",
       "      <td>Innsbruck_2023</td>\n",
       "      <td>14 June - 18 June 2023</td>\n",
       "      <td>Men</td>\n",
       "      <td>2023-06-14</td>\n",
       "      <td>2023-06-18</td>\n",
       "      <td>4</td>\n",
       "    </tr>\n",
       "  </tbody>\n",
       "</table>\n",
       "</div>"
      ],
      "text/plain": [
       "   Rank      FName        LName Country Qualification Semi-final Final  \\\n",
       "0   1.0     SASCHA      LEHMANN     SUI          4.03        43+   44+   \n",
       "1   2.0  ALEXANDER        MEGOS     GER          4.03        39+   44+   \n",
       "2   3.0      JAKOB     SCHUBERT     AUT          5.48         43   42+   \n",
       "3   4.0     SORATO       ANRAKU     JPN           2.5         40   42+   \n",
       "4   5.0      MEJDI      SCHALCK     FRA          15.2         40   42+   \n",
       "5   6.0     SATONE      YOSHIDA     JPN          4.03        39+   42+   \n",
       "6   7.0   MASAHIRO      HIGUCHI     JPN         14.07        42+    42   \n",
       "7   8.0    ALBERTO  GINÉS LÓPEZ     ESP         22.05         40    42   \n",
       "8   9.0     TAISEI        HOMMA     JPN          7.65         42   40+   \n",
       "9  10.0         AO     YURIKUSA     JPN          9.87        39+   NaN   \n",
       "\n",
       "       event_name                    date gender start_date   end_date  \\\n",
       "0  Innsbruck_2023  14 June - 18 June 2023    Men 2023-06-14 2023-06-18   \n",
       "1  Innsbruck_2023  14 June - 18 June 2023    Men 2023-06-14 2023-06-18   \n",
       "2  Innsbruck_2023  14 June - 18 June 2023    Men 2023-06-14 2023-06-18   \n",
       "3  Innsbruck_2023  14 June - 18 June 2023    Men 2023-06-14 2023-06-18   \n",
       "4  Innsbruck_2023  14 June - 18 June 2023    Men 2023-06-14 2023-06-18   \n",
       "5  Innsbruck_2023  14 June - 18 June 2023    Men 2023-06-14 2023-06-18   \n",
       "6  Innsbruck_2023  14 June - 18 June 2023    Men 2023-06-14 2023-06-18   \n",
       "7  Innsbruck_2023  14 June - 18 June 2023    Men 2023-06-14 2023-06-18   \n",
       "8  Innsbruck_2023  14 June - 18 June 2023    Men 2023-06-14 2023-06-18   \n",
       "9  Innsbruck_2023  14 June - 18 June 2023    Men 2023-06-14 2023-06-18   \n",
       "\n",
       "   event_duration  \n",
       "0               4  \n",
       "1               4  \n",
       "2               4  \n",
       "3               4  \n",
       "4               4  \n",
       "5               4  \n",
       "6               4  \n",
       "7               4  \n",
       "8               4  \n",
       "9               4  "
      ]
     },
     "execution_count": 42,
     "metadata": {},
     "output_type": "execute_result"
    }
   ],
   "source": [
    "lead_df.head(10)"
   ]
  },
  {
   "cell_type": "code",
   "execution_count": 43,
   "metadata": {},
   "outputs": [
    {
     "data": {
      "text/html": [
       "<div>\n",
       "<style scoped>\n",
       "    .dataframe tbody tr th:only-of-type {\n",
       "        vertical-align: middle;\n",
       "    }\n",
       "\n",
       "    .dataframe tbody tr th {\n",
       "        vertical-align: top;\n",
       "    }\n",
       "\n",
       "    .dataframe thead th {\n",
       "        text-align: right;\n",
       "    }\n",
       "</style>\n",
       "<table border=\"1\" class=\"dataframe\">\n",
       "  <thead>\n",
       "    <tr style=\"text-align: right;\">\n",
       "      <th></th>\n",
       "      <th>Rank</th>\n",
       "      <th>FName</th>\n",
       "      <th>LName</th>\n",
       "      <th>Country</th>\n",
       "      <th>Qualification</th>\n",
       "      <th>Semi-final</th>\n",
       "      <th>Final</th>\n",
       "      <th>event_name</th>\n",
       "      <th>date</th>\n",
       "      <th>gender</th>\n",
       "      <th>start_date</th>\n",
       "      <th>end_date</th>\n",
       "      <th>event_duration</th>\n",
       "    </tr>\n",
       "  </thead>\n",
       "  <tbody>\n",
       "    <tr>\n",
       "      <th>1135</th>\n",
       "      <td>36.0</td>\n",
       "      <td>TEREZA</td>\n",
       "      <td>SIRUCKOVA</td>\n",
       "      <td>CZE</td>\n",
       "      <td>32.15</td>\n",
       "      <td>NaN</td>\n",
       "      <td>NaN</td>\n",
       "      <td>Wujiang_2023</td>\n",
       "      <td>22 September - 24 September 2023</td>\n",
       "      <td>Women</td>\n",
       "      <td>2023-09-22</td>\n",
       "      <td>2023-09-24</td>\n",
       "      <td>2</td>\n",
       "    </tr>\n",
       "    <tr>\n",
       "      <th>1136</th>\n",
       "      <td>37.0</td>\n",
       "      <td>ANNA MARIA</td>\n",
       "      <td>APEL</td>\n",
       "      <td>GER</td>\n",
       "      <td>34.21</td>\n",
       "      <td>NaN</td>\n",
       "      <td>NaN</td>\n",
       "      <td>Wujiang_2023</td>\n",
       "      <td>22 September - 24 September 2023</td>\n",
       "      <td>Women</td>\n",
       "      <td>2023-09-22</td>\n",
       "      <td>2023-09-24</td>\n",
       "      <td>2</td>\n",
       "    </tr>\n",
       "    <tr>\n",
       "      <th>1137</th>\n",
       "      <td>38.0</td>\n",
       "      <td>ELISKA</td>\n",
       "      <td>ADAMOVSKA</td>\n",
       "      <td>CZE</td>\n",
       "      <td>36.28</td>\n",
       "      <td>NaN</td>\n",
       "      <td>NaN</td>\n",
       "      <td>Wujiang_2023</td>\n",
       "      <td>22 September - 24 September 2023</td>\n",
       "      <td>Women</td>\n",
       "      <td>2023-09-22</td>\n",
       "      <td>2023-09-24</td>\n",
       "      <td>2</td>\n",
       "    </tr>\n",
       "    <tr>\n",
       "      <th>1138</th>\n",
       "      <td>39.0</td>\n",
       "      <td>CHUNHUA</td>\n",
       "      <td>WU</td>\n",
       "      <td>CHN</td>\n",
       "      <td>36.74</td>\n",
       "      <td>NaN</td>\n",
       "      <td>NaN</td>\n",
       "      <td>Wujiang_2023</td>\n",
       "      <td>22 September - 24 September 2023</td>\n",
       "      <td>Women</td>\n",
       "      <td>2023-09-22</td>\n",
       "      <td>2023-09-24</td>\n",
       "      <td>2</td>\n",
       "    </tr>\n",
       "    <tr>\n",
       "      <th>1139</th>\n",
       "      <td>40.0</td>\n",
       "      <td>ZIHAN</td>\n",
       "      <td>HUANG</td>\n",
       "      <td>CHN</td>\n",
       "      <td>36.99</td>\n",
       "      <td>NaN</td>\n",
       "      <td>NaN</td>\n",
       "      <td>Wujiang_2023</td>\n",
       "      <td>22 September - 24 September 2023</td>\n",
       "      <td>Women</td>\n",
       "      <td>2023-09-22</td>\n",
       "      <td>2023-09-24</td>\n",
       "      <td>2</td>\n",
       "    </tr>\n",
       "    <tr>\n",
       "      <th>1140</th>\n",
       "      <td>41.0</td>\n",
       "      <td>ROXY</td>\n",
       "      <td>PERRY</td>\n",
       "      <td>AUS</td>\n",
       "      <td>40.39</td>\n",
       "      <td>NaN</td>\n",
       "      <td>NaN</td>\n",
       "      <td>Wujiang_2023</td>\n",
       "      <td>22 September - 24 September 2023</td>\n",
       "      <td>Women</td>\n",
       "      <td>2023-09-22</td>\n",
       "      <td>2023-09-24</td>\n",
       "      <td>2</td>\n",
       "    </tr>\n",
       "    <tr>\n",
       "      <th>1141</th>\n",
       "      <td>42.0</td>\n",
       "      <td>HONGCHUN</td>\n",
       "      <td>XIANG</td>\n",
       "      <td>CHN</td>\n",
       "      <td>41.73</td>\n",
       "      <td>NaN</td>\n",
       "      <td>NaN</td>\n",
       "      <td>Wujiang_2023</td>\n",
       "      <td>22 September - 24 September 2023</td>\n",
       "      <td>Women</td>\n",
       "      <td>2023-09-22</td>\n",
       "      <td>2023-09-24</td>\n",
       "      <td>2</td>\n",
       "    </tr>\n",
       "    <tr>\n",
       "      <th>1142</th>\n",
       "      <td>43.0</td>\n",
       "      <td>ANISHA</td>\n",
       "      <td>VERMA</td>\n",
       "      <td>IND</td>\n",
       "      <td>42.21</td>\n",
       "      <td>NaN</td>\n",
       "      <td>NaN</td>\n",
       "      <td>Wujiang_2023</td>\n",
       "      <td>22 September - 24 September 2023</td>\n",
       "      <td>Women</td>\n",
       "      <td>2023-09-22</td>\n",
       "      <td>2023-09-24</td>\n",
       "      <td>2</td>\n",
       "    </tr>\n",
       "    <tr>\n",
       "      <th>1143</th>\n",
       "      <td>44.0</td>\n",
       "      <td>YIXIN</td>\n",
       "      <td>LIU</td>\n",
       "      <td>CHN</td>\n",
       "      <td>42.43</td>\n",
       "      <td>NaN</td>\n",
       "      <td>NaN</td>\n",
       "      <td>Wujiang_2023</td>\n",
       "      <td>22 September - 24 September 2023</td>\n",
       "      <td>Women</td>\n",
       "      <td>2023-09-22</td>\n",
       "      <td>2023-09-24</td>\n",
       "      <td>2</td>\n",
       "    </tr>\n",
       "    <tr>\n",
       "      <th>1144</th>\n",
       "      <td>45.0</td>\n",
       "      <td>SANIYA FAROOQUE</td>\n",
       "      <td>SHAIKH</td>\n",
       "      <td>IND</td>\n",
       "      <td>44.24</td>\n",
       "      <td>NaN</td>\n",
       "      <td>NaN</td>\n",
       "      <td>Wujiang_2023</td>\n",
       "      <td>22 September - 24 September 2023</td>\n",
       "      <td>Women</td>\n",
       "      <td>2023-09-22</td>\n",
       "      <td>2023-09-24</td>\n",
       "      <td>2</td>\n",
       "    </tr>\n",
       "  </tbody>\n",
       "</table>\n",
       "</div>"
      ],
      "text/plain": [
       "      Rank            FName      LName Country Qualification Semi-final Final  \\\n",
       "1135  36.0           TEREZA  SIRUCKOVA     CZE         32.15        NaN   NaN   \n",
       "1136  37.0       ANNA MARIA       APEL     GER         34.21        NaN   NaN   \n",
       "1137  38.0           ELISKA  ADAMOVSKA     CZE         36.28        NaN   NaN   \n",
       "1138  39.0          CHUNHUA         WU     CHN         36.74        NaN   NaN   \n",
       "1139  40.0            ZIHAN      HUANG     CHN         36.99        NaN   NaN   \n",
       "1140  41.0             ROXY      PERRY     AUS         40.39        NaN   NaN   \n",
       "1141  42.0         HONGCHUN      XIANG     CHN         41.73        NaN   NaN   \n",
       "1142  43.0           ANISHA      VERMA     IND         42.21        NaN   NaN   \n",
       "1143  44.0            YIXIN        LIU     CHN         42.43        NaN   NaN   \n",
       "1144  45.0  SANIYA FAROOQUE     SHAIKH     IND         44.24        NaN   NaN   \n",
       "\n",
       "        event_name                              date gender start_date  \\\n",
       "1135  Wujiang_2023  22 September - 24 September 2023  Women 2023-09-22   \n",
       "1136  Wujiang_2023  22 September - 24 September 2023  Women 2023-09-22   \n",
       "1137  Wujiang_2023  22 September - 24 September 2023  Women 2023-09-22   \n",
       "1138  Wujiang_2023  22 September - 24 September 2023  Women 2023-09-22   \n",
       "1139  Wujiang_2023  22 September - 24 September 2023  Women 2023-09-22   \n",
       "1140  Wujiang_2023  22 September - 24 September 2023  Women 2023-09-22   \n",
       "1141  Wujiang_2023  22 September - 24 September 2023  Women 2023-09-22   \n",
       "1142  Wujiang_2023  22 September - 24 September 2023  Women 2023-09-22   \n",
       "1143  Wujiang_2023  22 September - 24 September 2023  Women 2023-09-22   \n",
       "1144  Wujiang_2023  22 September - 24 September 2023  Women 2023-09-22   \n",
       "\n",
       "       end_date  event_duration  \n",
       "1135 2023-09-24               2  \n",
       "1136 2023-09-24               2  \n",
       "1137 2023-09-24               2  \n",
       "1138 2023-09-24               2  \n",
       "1139 2023-09-24               2  \n",
       "1140 2023-09-24               2  \n",
       "1141 2023-09-24               2  \n",
       "1142 2023-09-24               2  \n",
       "1143 2023-09-24               2  \n",
       "1144 2023-09-24               2  "
      ]
     },
     "execution_count": 43,
     "metadata": {},
     "output_type": "execute_result"
    }
   ],
   "source": [
    "lead_df.tail(10)"
   ]
  },
  {
   "cell_type": "code",
   "execution_count": 44,
   "metadata": {},
   "outputs": [
    {
     "data": {
      "text/plain": [
       "Rank                     float64\n",
       "FName                     object\n",
       "LName                     object\n",
       "Country                   object\n",
       "Qualification             object\n",
       "Semi-final                object\n",
       "Final                     object\n",
       "event_name                object\n",
       "date                      object\n",
       "gender                    object\n",
       "start_date        datetime64[ns]\n",
       "end_date          datetime64[ns]\n",
       "event_duration             int64\n",
       "dtype: object"
      ]
     },
     "execution_count": 44,
     "metadata": {},
     "output_type": "execute_result"
    }
   ],
   "source": [
    "lead_df.dtypes"
   ]
  },
  {
   "cell_type": "code",
   "execution_count": 45,
   "metadata": {},
   "outputs": [
    {
     "data": {
      "text/html": [
       "<div>\n",
       "<style scoped>\n",
       "    .dataframe tbody tr th:only-of-type {\n",
       "        vertical-align: middle;\n",
       "    }\n",
       "\n",
       "    .dataframe tbody tr th {\n",
       "        vertical-align: top;\n",
       "    }\n",
       "\n",
       "    .dataframe thead th {\n",
       "        text-align: right;\n",
       "    }\n",
       "</style>\n",
       "<table border=\"1\" class=\"dataframe\">\n",
       "  <thead>\n",
       "    <tr style=\"text-align: right;\">\n",
       "      <th></th>\n",
       "      <th>Rank</th>\n",
       "      <th>FName</th>\n",
       "      <th>LName</th>\n",
       "      <th>Country</th>\n",
       "      <th>Qualification</th>\n",
       "      <th>Final</th>\n",
       "      <th>event_name</th>\n",
       "      <th>date</th>\n",
       "      <th>gender</th>\n",
       "      <th>start_date</th>\n",
       "      <th>end_date</th>\n",
       "      <th>event_duration</th>\n",
       "    </tr>\n",
       "  </thead>\n",
       "  <tbody>\n",
       "    <tr>\n",
       "      <th>0</th>\n",
       "      <td>1.0</td>\n",
       "      <td>VEDDRIQ</td>\n",
       "      <td>LEONARDO</td>\n",
       "      <td>INA</td>\n",
       "      <td>4.98 (wr) (asr)</td>\n",
       "      <td>5.01</td>\n",
       "      <td>Seoul_2023</td>\n",
       "      <td>28 April - 30 April 2023</td>\n",
       "      <td>Men</td>\n",
       "      <td>2023-04-28</td>\n",
       "      <td>2023-04-30</td>\n",
       "      <td>2</td>\n",
       "    </tr>\n",
       "    <tr>\n",
       "      <th>1</th>\n",
       "      <td>2.0</td>\n",
       "      <td>JINBAO</td>\n",
       "      <td>LONG</td>\n",
       "      <td>CHN</td>\n",
       "      <td>5.40</td>\n",
       "      <td>5.12</td>\n",
       "      <td>Seoul_2023</td>\n",
       "      <td>28 April - 30 April 2023</td>\n",
       "      <td>Men</td>\n",
       "      <td>2023-04-28</td>\n",
       "      <td>2023-04-30</td>\n",
       "      <td>2</td>\n",
       "    </tr>\n",
       "    <tr>\n",
       "      <th>2</th>\n",
       "      <td>3.0</td>\n",
       "      <td>XINSHANG</td>\n",
       "      <td>WANG</td>\n",
       "      <td>CHN</td>\n",
       "      <td>5.17</td>\n",
       "      <td>5.11</td>\n",
       "      <td>Seoul_2023</td>\n",
       "      <td>28 April - 30 April 2023</td>\n",
       "      <td>Men</td>\n",
       "      <td>2023-04-28</td>\n",
       "      <td>2023-04-30</td>\n",
       "      <td>2</td>\n",
       "    </tr>\n",
       "    <tr>\n",
       "      <th>3</th>\n",
       "      <td>4.0</td>\n",
       "      <td>JIANGUO</td>\n",
       "      <td>LONG</td>\n",
       "      <td>CHN</td>\n",
       "      <td>5.130</td>\n",
       "      <td>6.37</td>\n",
       "      <td>Seoul_2023</td>\n",
       "      <td>28 April - 30 April 2023</td>\n",
       "      <td>Men</td>\n",
       "      <td>2023-04-28</td>\n",
       "      <td>2023-04-30</td>\n",
       "      <td>2</td>\n",
       "    </tr>\n",
       "    <tr>\n",
       "      <th>4</th>\n",
       "      <td>5.0</td>\n",
       "      <td>EUNCHEOL</td>\n",
       "      <td>SHIN</td>\n",
       "      <td>KOR</td>\n",
       "      <td>5.131</td>\n",
       "      <td>8.69 (5.131)</td>\n",
       "      <td>Seoul_2023</td>\n",
       "      <td>28 April - 30 April 2023</td>\n",
       "      <td>Men</td>\n",
       "      <td>2023-04-28</td>\n",
       "      <td>2023-04-30</td>\n",
       "      <td>2</td>\n",
       "    </tr>\n",
       "    <tr>\n",
       "      <th>5</th>\n",
       "      <td>6.0</td>\n",
       "      <td>PENG</td>\n",
       "      <td>WU</td>\n",
       "      <td>CHN</td>\n",
       "      <td>5.231</td>\n",
       "      <td>6.13 (5.198)</td>\n",
       "      <td>Seoul_2023</td>\n",
       "      <td>28 April - 30 April 2023</td>\n",
       "      <td>Men</td>\n",
       "      <td>2023-04-28</td>\n",
       "      <td>2023-04-30</td>\n",
       "      <td>2</td>\n",
       "    </tr>\n",
       "    <tr>\n",
       "      <th>6</th>\n",
       "      <td>7.0</td>\n",
       "      <td>ASPAR</td>\n",
       "      <td>ASPAR</td>\n",
       "      <td>INA</td>\n",
       "      <td>5.22</td>\n",
       "      <td>5.24 (5.220)</td>\n",
       "      <td>Seoul_2023</td>\n",
       "      <td>28 April - 30 April 2023</td>\n",
       "      <td>Men</td>\n",
       "      <td>2023-04-28</td>\n",
       "      <td>2023-04-30</td>\n",
       "      <td>2</td>\n",
       "    </tr>\n",
       "    <tr>\n",
       "      <th>7</th>\n",
       "      <td>8.0</td>\n",
       "      <td>MATTEO</td>\n",
       "      <td>ZURLONI</td>\n",
       "      <td>ITA</td>\n",
       "      <td>5.230 (er)</td>\n",
       "      <td>8.04 (5.230)</td>\n",
       "      <td>Seoul_2023</td>\n",
       "      <td>28 April - 30 April 2023</td>\n",
       "      <td>Men</td>\n",
       "      <td>2023-04-28</td>\n",
       "      <td>2023-04-30</td>\n",
       "      <td>2</td>\n",
       "    </tr>\n",
       "    <tr>\n",
       "      <th>8</th>\n",
       "      <td>9.0</td>\n",
       "      <td>SAMUEL</td>\n",
       "      <td>WATSON</td>\n",
       "      <td>USA</td>\n",
       "      <td>5.02 (par)</td>\n",
       "      <td>5.42 (5.29)</td>\n",
       "      <td>Seoul_2023</td>\n",
       "      <td>28 April - 30 April 2023</td>\n",
       "      <td>Men</td>\n",
       "      <td>2023-04-28</td>\n",
       "      <td>2023-04-30</td>\n",
       "      <td>2</td>\n",
       "    </tr>\n",
       "    <tr>\n",
       "      <th>9</th>\n",
       "      <td>10.0</td>\n",
       "      <td>RAHMAD</td>\n",
       "      <td>ADI MULYONO</td>\n",
       "      <td>INA</td>\n",
       "      <td>5.239</td>\n",
       "      <td>5.29 (5.239)</td>\n",
       "      <td>Seoul_2023</td>\n",
       "      <td>28 April - 30 April 2023</td>\n",
       "      <td>Men</td>\n",
       "      <td>2023-04-28</td>\n",
       "      <td>2023-04-30</td>\n",
       "      <td>2</td>\n",
       "    </tr>\n",
       "  </tbody>\n",
       "</table>\n",
       "</div>"
      ],
      "text/plain": [
       "   Rank     FName        LName Country    Qualification         Final  \\\n",
       "0   1.0   VEDDRIQ     LEONARDO     INA  4.98 (wr) (asr)          5.01   \n",
       "1   2.0    JINBAO         LONG     CHN             5.40          5.12   \n",
       "2   3.0  XINSHANG         WANG     CHN             5.17          5.11   \n",
       "3   4.0   JIANGUO         LONG     CHN            5.130          6.37   \n",
       "4   5.0  EUNCHEOL         SHIN     KOR            5.131  8.69 (5.131)   \n",
       "5   6.0      PENG           WU     CHN            5.231  6.13 (5.198)   \n",
       "6   7.0     ASPAR        ASPAR     INA             5.22  5.24 (5.220)   \n",
       "7   8.0    MATTEO      ZURLONI     ITA       5.230 (er)  8.04 (5.230)   \n",
       "8   9.0    SAMUEL       WATSON     USA       5.02 (par)   5.42 (5.29)   \n",
       "9  10.0    RAHMAD  ADI MULYONO     INA            5.239  5.29 (5.239)   \n",
       "\n",
       "   event_name                      date gender start_date   end_date  \\\n",
       "0  Seoul_2023  28 April - 30 April 2023    Men 2023-04-28 2023-04-30   \n",
       "1  Seoul_2023  28 April - 30 April 2023    Men 2023-04-28 2023-04-30   \n",
       "2  Seoul_2023  28 April - 30 April 2023    Men 2023-04-28 2023-04-30   \n",
       "3  Seoul_2023  28 April - 30 April 2023    Men 2023-04-28 2023-04-30   \n",
       "4  Seoul_2023  28 April - 30 April 2023    Men 2023-04-28 2023-04-30   \n",
       "5  Seoul_2023  28 April - 30 April 2023    Men 2023-04-28 2023-04-30   \n",
       "6  Seoul_2023  28 April - 30 April 2023    Men 2023-04-28 2023-04-30   \n",
       "7  Seoul_2023  28 April - 30 April 2023    Men 2023-04-28 2023-04-30   \n",
       "8  Seoul_2023  28 April - 30 April 2023    Men 2023-04-28 2023-04-30   \n",
       "9  Seoul_2023  28 April - 30 April 2023    Men 2023-04-28 2023-04-30   \n",
       "\n",
       "   event_duration  \n",
       "0               2  \n",
       "1               2  \n",
       "2               2  \n",
       "3               2  \n",
       "4               2  \n",
       "5               2  \n",
       "6               2  \n",
       "7               2  \n",
       "8               2  \n",
       "9               2  "
      ]
     },
     "execution_count": 45,
     "metadata": {},
     "output_type": "execute_result"
    }
   ],
   "source": [
    "speed_df.head(10)"
   ]
  },
  {
   "cell_type": "code",
   "execution_count": 46,
   "metadata": {},
   "outputs": [],
   "source": [
    "# Make new columns with only the numeric values\n",
    "speed_df['qlf1'] = speed_df['Qualification'].str.extract(r'(\\d+\\.\\d+)').astype('float64')\n",
    "speed_df['final1'] = speed_df['Final'].str.extract(r'(\\d+\\.\\d+)').astype('float64')"
   ]
  },
  {
   "cell_type": "code",
   "execution_count": 54,
   "metadata": {},
   "outputs": [
    {
     "data": {
      "text/plain": [
       "Rank                 0\n",
       "FName                0\n",
       "LName                0\n",
       "Country              0\n",
       "Qualification        0\n",
       "Semi-final         950\n",
       "Final             1121\n",
       "event_name           0\n",
       "date                 0\n",
       "gender               0\n",
       "start_date           0\n",
       "end_date             0\n",
       "event_duration       0\n",
       "dtype: int64"
      ]
     },
     "execution_count": 54,
     "metadata": {},
     "output_type": "execute_result"
    }
   ],
   "source": [
    "boulder_df.isna().sum()"
   ]
  },
  {
   "cell_type": "code",
   "execution_count": 55,
   "metadata": {},
   "outputs": [
    {
     "data": {
      "text/plain": [
       "Rank                 0\n",
       "FName                0\n",
       "LName                0\n",
       "Country              0\n",
       "Qualification        0\n",
       "Semi-final         768\n",
       "Final             1017\n",
       "event_name           0\n",
       "date                 0\n",
       "gender               0\n",
       "start_date           0\n",
       "end_date             0\n",
       "event_duration       0\n",
       "dtype: int64"
      ]
     },
     "execution_count": 55,
     "metadata": {},
     "output_type": "execute_result"
    }
   ],
   "source": [
    "lead_df.isna().sum()"
   ]
  },
  {
   "cell_type": "code",
   "execution_count": 56,
   "metadata": {},
   "outputs": [
    {
     "data": {
      "text/plain": [
       "Rank                0\n",
       "FName               0\n",
       "LName               0\n",
       "Country             0\n",
       "Qualification       0\n",
       "Final             609\n",
       "event_name          0\n",
       "date                0\n",
       "gender              0\n",
       "start_date          0\n",
       "end_date            0\n",
       "event_duration      0\n",
       "qlf1               35\n",
       "final1            613\n",
       "dtype: int64"
      ]
     },
     "execution_count": 56,
     "metadata": {},
     "output_type": "execute_result"
    }
   ],
   "source": [
    "speed_df.isna().sum()"
   ]
  },
  {
   "cell_type": "markdown",
   "metadata": {},
   "source": [
    "All three data frames have NaN values for he event results, this mean that the athlete did not qualified for the next stage of the competition. For the purpose of this analysis, I will leave the `NaN` values as it."
   ]
  },
  {
   "cell_type": "markdown",
   "metadata": {},
   "source": [
    "### EDA\n",
    "\n",
    "Let's start exploring the athletes csv file. The athletes csv file contains information of all athletes that participated during the world cup 2023 competitions."
   ]
  },
  {
   "cell_type": "markdown",
   "metadata": {},
   "source": [
    "#### Athletes"
   ]
  },
  {
   "cell_type": "code",
   "execution_count": 69,
   "metadata": {},
   "outputs": [
    {
     "data": {
      "text/plain": [
       "(750, 8)"
      ]
     },
     "execution_count": 69,
     "metadata": {},
     "output_type": "execute_result"
    }
   ],
   "source": [
    "athletes_v2.shape"
   ]
  },
  {
   "cell_type": "code",
   "execution_count": 70,
   "metadata": {},
   "outputs": [
    {
     "data": {
      "text/html": [
       "<div>\n",
       "<style scoped>\n",
       "    .dataframe tbody tr th:only-of-type {\n",
       "        vertical-align: middle;\n",
       "    }\n",
       "\n",
       "    .dataframe tbody tr th {\n",
       "        vertical-align: top;\n",
       "    }\n",
       "\n",
       "    .dataframe thead th {\n",
       "        text-align: right;\n",
       "    }\n",
       "</style>\n",
       "<table border=\"1\" class=\"dataframe\">\n",
       "  <thead>\n",
       "    <tr style=\"text-align: right;\">\n",
       "      <th></th>\n",
       "      <th>Height</th>\n",
       "      <th>Active</th>\n",
       "      <th>Participations</th>\n",
       "      <th>Age</th>\n",
       "    </tr>\n",
       "  </thead>\n",
       "  <tbody>\n",
       "    <tr>\n",
       "      <th>count</th>\n",
       "      <td>656.000000</td>\n",
       "      <td>750.0</td>\n",
       "      <td>750.000000</td>\n",
       "      <td>750.000000</td>\n",
       "    </tr>\n",
       "    <tr>\n",
       "      <th>mean</th>\n",
       "      <td>169.653322</td>\n",
       "      <td>2016.822667</td>\n",
       "      <td>36.206667</td>\n",
       "      <td>22.512000</td>\n",
       "    </tr>\n",
       "    <tr>\n",
       "      <th>std</th>\n",
       "      <td>7.806787</td>\n",
       "      <td>4.628728</td>\n",
       "      <td>36.423282</td>\n",
       "      <td>4.510393</td>\n",
       "    </tr>\n",
       "    <tr>\n",
       "      <th>min</th>\n",
       "      <td>149.000000</td>\n",
       "      <td>1997.0</td>\n",
       "      <td>1.000000</td>\n",
       "      <td>16.000000</td>\n",
       "    </tr>\n",
       "    <tr>\n",
       "      <th>25%</th>\n",
       "      <td>163.000000</td>\n",
       "      <td>2014.0</td>\n",
       "      <td>11.000000</td>\n",
       "      <td>19.000000</td>\n",
       "    </tr>\n",
       "    <tr>\n",
       "      <th>50%</th>\n",
       "      <td>170.000000</td>\n",
       "      <td>2017.0</td>\n",
       "      <td>22.000000</td>\n",
       "      <td>22.000000</td>\n",
       "    </tr>\n",
       "    <tr>\n",
       "      <th>75%</th>\n",
       "      <td>175.125000</td>\n",
       "      <td>2021.0</td>\n",
       "      <td>52.000000</td>\n",
       "      <td>25.000000</td>\n",
       "    </tr>\n",
       "    <tr>\n",
       "      <th>max</th>\n",
       "      <td>198.000000</td>\n",
       "      <td>2023.0</td>\n",
       "      <td>247.000000</td>\n",
       "      <td>39.000000</td>\n",
       "    </tr>\n",
       "  </tbody>\n",
       "</table>\n",
       "</div>"
      ],
      "text/plain": [
       "           Height       Active  Participations         Age\n",
       "count  656.000000        750.0      750.000000  750.000000\n",
       "mean   169.653322  2016.822667       36.206667   22.512000\n",
       "std      7.806787     4.628728       36.423282    4.510393\n",
       "min    149.000000       1997.0        1.000000   16.000000\n",
       "25%    163.000000       2014.0       11.000000   19.000000\n",
       "50%    170.000000       2017.0       22.000000   22.000000\n",
       "75%    175.125000       2021.0       52.000000   25.000000\n",
       "max    198.000000       2023.0      247.000000   39.000000"
      ]
     },
     "execution_count": 70,
     "metadata": {},
     "output_type": "execute_result"
    }
   ],
   "source": [
    "athletes_v2.describe()"
   ]
  },
  {
   "cell_type": "code",
   "execution_count": 77,
   "metadata": {},
   "outputs": [
    {
     "name": "stdout",
     "output_type": "stream",
     "text": [
      "Gender\n",
      "Men      425\n",
      "Women    325\n",
      "Name: count, dtype: int64\n",
      "Gender\n",
      "Men      0.566667\n",
      "Women    0.433333\n",
      "Name: proportion, dtype: float64\n"
     ]
    }
   ],
   "source": [
    "# Count the Men and Women athletes\n",
    "print(athletes_v2['Gender'].value_counts())\n",
    "print(athletes_v2['Gender'].value_counts(normalize=True))"
   ]
  },
  {
   "cell_type": "code",
   "execution_count": 84,
   "metadata": {},
   "outputs": [
    {
     "name": "stdout",
     "output_type": "stream",
     "text": [
      "Total participating countries during the 2023 world cups: 67\n"
     ]
    }
   ],
   "source": [
    "# Count the numbers of participating countries\n",
    "print(\"Total participating countries during the 2023 world cups:\", len(athletes_v2['country'].unique()))"
   ]
  },
  {
   "cell_type": "code",
   "execution_count": 85,
   "metadata": {},
   "outputs": [
    {
     "data": {
      "text/plain": [
       "country\n",
       "JPN    48\n",
       "FRA    45\n",
       "USA    44\n",
       "KOR    38\n",
       "ITA    35\n",
       "INA    35\n",
       "CHN    34\n",
       "GER    31\n",
       "AUT    30\n",
       "SLO    24\n",
       "Name: count, dtype: int64"
      ]
     },
     "execution_count": 85,
     "metadata": {},
     "output_type": "execute_result"
    }
   ],
   "source": [
    "# Top 10 contries with most participating athletesd\n",
    "athletes_v2['country'].value_counts().head(10)"
   ]
  },
  {
   "cell_type": "code",
   "execution_count": 144,
   "metadata": {},
   "outputs": [
    {
     "data": {
      "image/png": "[encoded data removed]",
      "text/plain": [
       "<Figure size 2000x1000 with 1 Axes>"
      ]
     },
     "metadata": {},
     "output_type": "display_data"
    }
   ],
   "source": [
    "data = athletes_v2['country'].value_counts()\n",
    "title = \"Athlete Count per Country - 2023 Competitions\"\n",
    "\n",
    "ax = sns.barplot(data=data)\n",
    "\n",
    "for c in ax.containers:\n",
    "    ax.bar_label(c)\n",
    "\n",
    "plt.title(title, color='black')\n",
    "plt.ylabel(\"\")\n",
    "plt.xlabel(\"\")\n",
    "plt.yticks([])\n",
    "plt.xticks(rotation=45)\n",
    "\n",
    "# Save the plot as a PNG file\n",
    "plt.savefig(f'graphs/{title}.png')\n",
    "plt.show()"
   ]
  },
  {
   "cell_type": "markdown",
   "metadata": {},
   "source": [
    "#### Boulder"
   ]
  },
  {
   "cell_type": "code",
   "execution_count": 90,
   "metadata": {},
   "outputs": [
    {
     "data": {
      "text/plain": [
       "(1232, 13)"
      ]
     },
     "execution_count": 90,
     "metadata": {},
     "output_type": "execute_result"
    }
   ],
   "source": [
    "boulder_df.shape"
   ]
  },
  {
   "cell_type": "code",
   "execution_count": 93,
   "metadata": {},
   "outputs": [
    {
     "data": {
      "text/plain": [
       "event_name\n",
       "Bern_2023              239\n",
       "Innsbruck_2023         202\n",
       "Brixen_2023            169\n",
       "Prague_2023            167\n",
       "Hachioji_2023          165\n",
       "Seoul_2023             165\n",
       "Salt_Lake_City_2023    125\n",
       "Name: count, dtype: int64"
      ]
     },
     "execution_count": 93,
     "metadata": {},
     "output_type": "execute_result"
    }
   ],
   "source": [
    "boulder_df['event_name'].value_counts()"
   ]
  },
  {
   "cell_type": "code",
   "execution_count": 107,
   "metadata": {},
   "outputs": [
    {
     "data": {
      "text/plain": [
       "event_name           gender\n",
       "Bern_2023            Men       130\n",
       "                     Women     109\n",
       "Brixen_2023          Men        90\n",
       "                     Women      79\n",
       "Hachioji_2023        Men        91\n",
       "                     Women      74\n",
       "Innsbruck_2023       Men       110\n",
       "                     Women      92\n",
       "Prague_2023          Men        94\n",
       "                     Women      73\n",
       "Salt_Lake_City_2023  Men        64\n",
       "                     Women      61\n",
       "Seoul_2023           Men        87\n",
       "                     Women      78\n",
       "Name: Country, dtype: int64"
      ]
     },
     "execution_count": 107,
     "metadata": {},
     "output_type": "execute_result"
    }
   ],
   "source": [
    "boulder_df.groupby(['event_name', 'gender'])['Country'].count()"
   ]
  },
  {
   "cell_type": "code",
   "execution_count": 153,
   "metadata": {},
   "outputs": [
    {
     "data": {
      "image/png": "[encoded data removed]",
      "text/plain": [
       "<Figure size 2000x1000 with 1 Axes>"
      ]
     },
     "metadata": {},
     "output_type": "display_data"
    }
   ],
   "source": [
    "data = boulder_df.groupby(['event_name', 'gender'])['Country'].count().reset_index()\n",
    "\n",
    "title = \"Athlete Count in Bouldering by Event and Gender\"\n",
    "\n",
    "ax = sns.barplot(x='event_name', y='Country', hue='gender', data=data)\n",
    "\n",
    "for c in ax.containers:\n",
    "    ax.bar_label(c)\n",
    "\n",
    "plt.title(title)\n",
    "plt.ylabel(\"\")\n",
    "plt.xlabel(\"\")\n",
    "plt.yticks([])\n",
    "\n",
    "# Save the plot as a PNG file\n",
    "plt.savefig(f'graphs/{title}.png')\n",
    "plt.show()\n"
   ]
  },
  {
   "cell_type": "code",
   "execution_count": 146,
   "metadata": {},
   "outputs": [
    {
     "data": {
      "text/plain": [
       "count    1232.000000\n",
       "mean        4.073864\n",
       "std         3.475372\n",
       "min         2.000000\n",
       "25%         2.000000\n",
       "50%         2.000000\n",
       "75%         4.000000\n",
       "max        11.000000\n",
       "Name: event_duration, dtype: float64"
      ]
     },
     "execution_count": 146,
     "metadata": {},
     "output_type": "execute_result"
    }
   ],
   "source": [
    "boulder_df['event_duration'].describe()"
   ]
  },
  {
   "cell_type": "code",
   "execution_count": 148,
   "metadata": {},
   "outputs": [
    {
     "data": {
      "text/plain": [
       "event_duration\n",
       "2     791\n",
       "11    239\n",
       "4     202\n",
       "Name: count, dtype: int64"
      ]
     },
     "execution_count": 148,
     "metadata": {},
     "output_type": "execute_result"
    }
   ],
   "source": [
    "boulder_df['event_duration'].value_counts()"
   ]
  },
  {
   "cell_type": "markdown",
   "metadata": {},
   "source": [
    "#### Lead"
   ]
  },
  {
   "cell_type": "code",
   "execution_count": 149,
   "metadata": {},
   "outputs": [
    {
     "data": {
      "text/plain": [
       "(1133, 13)"
      ]
     },
     "execution_count": 149,
     "metadata": {},
     "output_type": "execute_result"
    }
   ],
   "source": [
    "lead_df.shape"
   ]
  },
  {
   "cell_type": "code",
   "execution_count": 150,
   "metadata": {},
   "outputs": [
    {
     "data": {
      "text/plain": [
       "event_name\n",
       "Bern_2023         225\n",
       "Innsbruck_2023    199\n",
       "Villars_2023      177\n",
       "Chamonix_2023     175\n",
       "Briançon_2023     143\n",
       "Koper_2023        121\n",
       "Wujiang_2023       93\n",
       "Name: count, dtype: int64"
      ]
     },
     "execution_count": 150,
     "metadata": {},
     "output_type": "execute_result"
    }
   ],
   "source": [
    "lead_df['event_name'].value_counts()"
   ]
  },
  {
   "cell_type": "code",
   "execution_count": 151,
   "metadata": {},
   "outputs": [
    {
     "data": {
      "text/plain": [
       "event_name      gender\n",
       "Bern_2023       Men       125\n",
       "                Women     100\n",
       "Briançon_2023   Men        76\n",
       "                Women      67\n",
       "Chamonix_2023   Men        92\n",
       "                Women      83\n",
       "Innsbruck_2023  Men       110\n",
       "                Women      89\n",
       "Koper_2023      Men        59\n",
       "                Women      62\n",
       "Villars_2023    Men        94\n",
       "                Women      83\n",
       "Wujiang_2023    Men        48\n",
       "                Women      45\n",
       "Name: Country, dtype: int64"
      ]
     },
     "execution_count": 151,
     "metadata": {},
     "output_type": "execute_result"
    }
   ],
   "source": [
    "lead_df.groupby(['event_name', 'gender'])['Country'].count()"
   ]
  },
  {
   "cell_type": "code",
   "execution_count": 154,
   "metadata": {},
   "outputs": [
    {
     "data": {
      "image/png": "[encoded data removed]",
      "text/plain": [
       "<Figure size 2000x1000 with 1 Axes>"
      ]
     },
     "metadata": {},
     "output_type": "display_data"
    }
   ],
   "source": [
    "data = lead_df.groupby(['event_name', 'gender'])['Country'].count().reset_index()\n",
    "\n",
    "title = \"Athlete Count in Lead by Event and Gender\"\n",
    "\n",
    "ax = sns.barplot(x='event_name', y='Country', hue='gender', data=data)\n",
    "\n",
    "for c in ax.containers:\n",
    "    ax.bar_label(c)\n",
    "\n",
    "plt.title(title)\n",
    "plt.ylabel(\"\")\n",
    "plt.xlabel(\"\")\n",
    "plt.yticks([])\n",
    "\n",
    "# Save the plot as a PNG file\n",
    "plt.savefig(f'graphs/{title}.png')\n",
    "plt.show()\n"
   ]
  },
  {
   "cell_type": "code",
   "execution_count": 155,
   "metadata": {},
   "outputs": [
    {
     "data": {
      "text/plain": [
       "count    1133.000000\n",
       "mean        3.905560\n",
       "std         3.660854\n",
       "min         1.000000\n",
       "25%         2.000000\n",
       "50%         2.000000\n",
       "75%         4.000000\n",
       "max        11.000000\n",
       "Name: event_duration, dtype: float64"
      ]
     },
     "execution_count": 155,
     "metadata": {},
     "output_type": "execute_result"
    }
   ],
   "source": [
    "lead_df['event_duration'].describe()"
   ]
  },
  {
   "cell_type": "code",
   "execution_count": 156,
   "metadata": {},
   "outputs": [
    {
     "data": {
      "text/plain": [
       "event_duration\n",
       "2     445\n",
       "1     264\n",
       "11    225\n",
       "4     199\n",
       "Name: count, dtype: int64"
      ]
     },
     "execution_count": 156,
     "metadata": {},
     "output_type": "execute_result"
    }
   ],
   "source": [
    "lead_df['event_duration'].value_counts()"
   ]
  },
  {
   "cell_type": "markdown",
   "metadata": {},
   "source": [
    "#### Speed"
   ]
  },
  {
   "cell_type": "code",
   "execution_count": 157,
   "metadata": {},
   "outputs": [
    {
     "data": {
      "text/plain": [
       "(833, 14)"
      ]
     },
     "execution_count": 157,
     "metadata": {},
     "output_type": "execute_result"
    }
   ],
   "source": [
    "speed_df.shape"
   ]
  },
  {
   "cell_type": "code",
   "execution_count": 158,
   "metadata": {},
   "outputs": [
    {
     "data": {
      "text/plain": [
       "event_name\n",
       "Bern_2023              135\n",
       "Villars_2023           131\n",
       "Chamonix_2023          129\n",
       "Seoul_2023             122\n",
       "Jakarta_2023           119\n",
       "Salt_Lake_City_2023    112\n",
       "Wujiang_2023            85\n",
       "Name: count, dtype: int64"
      ]
     },
     "execution_count": 158,
     "metadata": {},
     "output_type": "execute_result"
    }
   ],
   "source": [
    "speed_df['event_name'].value_counts()"
   ]
  },
  {
   "cell_type": "code",
   "execution_count": 159,
   "metadata": {},
   "outputs": [
    {
     "data": {
      "text/plain": [
       "event_name           gender\n",
       "Bern_2023            Men       77\n",
       "                     Women     58\n",
       "Chamonix_2023        Men       77\n",
       "                     Women     52\n",
       "Jakarta_2023         Men       72\n",
       "                     Women     47\n",
       "Salt_Lake_City_2023  Men       64\n",
       "                     Women     48\n",
       "Seoul_2023           Men       72\n",
       "                     Women     50\n",
       "Villars_2023         Men       77\n",
       "                     Women     54\n",
       "Wujiang_2023         Men       50\n",
       "                     Women     35\n",
       "Name: Country, dtype: int64"
      ]
     },
     "execution_count": 159,
     "metadata": {},
     "output_type": "execute_result"
    }
   ],
   "source": [
    "speed_df.groupby(['event_name', 'gender'])['Country'].count()"
   ]
  },
  {
   "cell_type": "code",
   "execution_count": 160,
   "metadata": {},
   "outputs": [
    {
     "data": {
      "image/png": "[encoded data removed]",
      "text/plain": [
       "<Figure size 2000x1000 with 1 Axes>"
      ]
     },
     "metadata": {},
     "output_type": "display_data"
    }
   ],
   "source": [
    "data = speed_df.groupby(['event_name', 'gender'])['Country'].count().reset_index()\n",
    "\n",
    "title = \"Athlete Count in Speed by Event and Gender\"\n",
    "\n",
    "ax = sns.barplot(x='event_name', y='Country', hue='gender', data=data)\n",
    "\n",
    "for c in ax.containers:\n",
    "    ax.bar_label(c)\n",
    "\n",
    "plt.title(title)\n",
    "plt.ylabel(\"\")\n",
    "plt.xlabel(\"\")\n",
    "plt.yticks([])\n",
    "\n",
    "# Save the plot as a PNG file\n",
    "plt.savefig(f'graphs/{title}.png')\n",
    "plt.show()"
   ]
  },
  {
   "cell_type": "code",
   "execution_count": 161,
   "metadata": {},
   "outputs": [
    {
     "data": {
      "text/plain": [
       "count    833.000000\n",
       "mean       3.315726\n",
       "std        3.398947\n",
       "min        1.000000\n",
       "25%        2.000000\n",
       "50%        2.000000\n",
       "75%        2.000000\n",
       "max       11.000000\n",
       "Name: event_duration, dtype: float64"
      ]
     },
     "execution_count": 161,
     "metadata": {},
     "output_type": "execute_result"
    }
   ],
   "source": [
    "speed_df['event_duration'].describe()"
   ]
  },
  {
   "cell_type": "code",
   "execution_count": 162,
   "metadata": {},
   "outputs": [
    {
     "data": {
      "text/plain": [
       "event_duration\n",
       "2     579\n",
       "11    135\n",
       "1     119\n",
       "Name: count, dtype: int64"
      ]
     },
     "execution_count": 162,
     "metadata": {},
     "output_type": "execute_result"
    }
   ],
   "source": [
    "speed_df['event_duration'].value_counts()"
   ]
  },
  {
   "cell_type": "code",
   "execution_count": 178,
   "metadata": {},
   "outputs": [
    {
     "data": {
      "text/html": [
       "<div>\n",
       "<style scoped>\n",
       "    .dataframe tbody tr th:only-of-type {\n",
       "        vertical-align: middle;\n",
       "    }\n",
       "\n",
       "    .dataframe tbody tr th {\n",
       "        vertical-align: top;\n",
       "    }\n",
       "\n",
       "    .dataframe thead tr th {\n",
       "        text-align: left;\n",
       "    }\n",
       "\n",
       "    .dataframe thead tr:last-of-type th {\n",
       "        text-align: right;\n",
       "    }\n",
       "</style>\n",
       "<table border=\"1\" class=\"dataframe\">\n",
       "  <thead>\n",
       "    <tr>\n",
       "      <th></th>\n",
       "      <th colspan=\"8\" halign=\"left\">qlf1</th>\n",
       "      <th colspan=\"8\" halign=\"left\">final1</th>\n",
       "    </tr>\n",
       "    <tr>\n",
       "      <th></th>\n",
       "      <th>count</th>\n",
       "      <th>mean</th>\n",
       "      <th>std</th>\n",
       "      <th>min</th>\n",
       "      <th>25%</th>\n",
       "      <th>50%</th>\n",
       "      <th>75%</th>\n",
       "      <th>max</th>\n",
       "      <th>count</th>\n",
       "      <th>mean</th>\n",
       "      <th>std</th>\n",
       "      <th>min</th>\n",
       "      <th>25%</th>\n",
       "      <th>50%</th>\n",
       "      <th>75%</th>\n",
       "      <th>max</th>\n",
       "    </tr>\n",
       "    <tr>\n",
       "      <th>gender</th>\n",
       "      <th></th>\n",
       "      <th></th>\n",
       "      <th></th>\n",
       "      <th></th>\n",
       "      <th></th>\n",
       "      <th></th>\n",
       "      <th></th>\n",
       "      <th></th>\n",
       "      <th></th>\n",
       "      <th></th>\n",
       "      <th></th>\n",
       "      <th></th>\n",
       "      <th></th>\n",
       "      <th></th>\n",
       "      <th></th>\n",
       "      <th></th>\n",
       "    </tr>\n",
       "  </thead>\n",
       "  <tbody>\n",
       "    <tr>\n",
       "      <th>Men</th>\n",
       "      <td>462.0</td>\n",
       "      <td>5.956340</td>\n",
       "      <td>0.923299</td>\n",
       "      <td>4.97</td>\n",
       "      <td>5.3885</td>\n",
       "      <td>5.6730</td>\n",
       "      <td>6.18</td>\n",
       "      <td>12.13</td>\n",
       "      <td>108.0</td>\n",
       "      <td>5.864870</td>\n",
       "      <td>1.048599</td>\n",
       "      <td>4.95</td>\n",
       "      <td>5.195</td>\n",
       "      <td>5.340</td>\n",
       "      <td>6.355</td>\n",
       "      <td>9.22</td>\n",
       "    </tr>\n",
       "    <tr>\n",
       "      <th>Women</th>\n",
       "      <td>336.0</td>\n",
       "      <td>8.316402</td>\n",
       "      <td>1.444823</td>\n",
       "      <td>6.30</td>\n",
       "      <td>7.3375</td>\n",
       "      <td>7.9915</td>\n",
       "      <td>8.95</td>\n",
       "      <td>16.62</td>\n",
       "      <td>112.0</td>\n",
       "      <td>7.517875</td>\n",
       "      <td>1.135870</td>\n",
       "      <td>6.25</td>\n",
       "      <td>6.855</td>\n",
       "      <td>7.245</td>\n",
       "      <td>7.640</td>\n",
       "      <td>12.81</td>\n",
       "    </tr>\n",
       "  </tbody>\n",
       "</table>\n",
       "</div>"
      ],
      "text/plain": [
       "         qlf1                                                        final1  \\\n",
       "        count      mean       std   min     25%     50%   75%    max  count   \n",
       "gender                                                                        \n",
       "Men     462.0  5.956340  0.923299  4.97  5.3885  5.6730  6.18  12.13  108.0   \n",
       "Women   336.0  8.316402  1.444823  6.30  7.3375  7.9915  8.95  16.62  112.0   \n",
       "\n",
       "                                                              \n",
       "            mean       std   min    25%    50%    75%    max  \n",
       "gender                                                        \n",
       "Men     5.864870  1.048599  4.95  5.195  5.340  6.355   9.22  \n",
       "Women   7.517875  1.135870  6.25  6.855  7.245  7.640  12.81  "
      ]
     },
     "execution_count": 178,
     "metadata": {},
     "output_type": "execute_result"
    }
   ],
   "source": [
    "speed_df.groupby(['gender'])[['qlf1','final1']].describe()"
   ]
  }
 ],
 "metadata": {
  "kernelspec": {
   "display_name": "scrape",
   "language": "python",
   "name": "python3"
  },
  "language_info": {
   "codemirror_mode": {
    "name": "ipython",
    "version": 3
   },
   "file_extension": ".py",
   "mimetype": "text/x-python",
   "name": "python",
   "nbconvert_exporter": "python",
   "pygments_lexer": "ipython3",
   "version": "3.12.0"
  }
 },
 "nbformat": 4,
 "nbformat_minor": 2
}
